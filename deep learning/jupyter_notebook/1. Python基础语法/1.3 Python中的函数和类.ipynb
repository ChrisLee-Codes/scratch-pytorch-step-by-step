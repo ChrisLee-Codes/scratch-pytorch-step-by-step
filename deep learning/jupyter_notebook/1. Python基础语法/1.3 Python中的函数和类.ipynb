{
 "cells": [
  {
   "cell_type": "markdown",
   "metadata": {},
   "source": [
    "# 1.3 Python中的函数和类"
   ]
  },
  {
   "cell_type": "markdown",
   "metadata": {},
   "source": [
    "Python 函数是使用 def 关键字定义的。例如："
   ]
  },
  {
   "cell_type": "code",
   "execution_count": null,
   "metadata": {},
   "outputs": [],
   "source": [
    "def sign(x):\n",
    "    if x > 0:\n",
    "        return 'positive'\n",
    "    elif x < 0:\n",
    "        return 'negative'\n",
    "    else:\n",
    "        return 'zero'\n",
    "\n",
    "for x in [-1, 0, 1]:\n",
    "    print(sign(x))\n",
    "# Prints \"negative\", \"zero\", \"positive\""
   ]
  },
  {
   "cell_type": "markdown",
   "metadata": {},
   "source": [
    "我们通常会定义函数来接受可选的关键字参数，如下所示："
   ]
  },
  {
   "cell_type": "code",
   "execution_count": null,
   "metadata": {},
   "outputs": [],
   "source": [
    "def hello(name, loud=False):\n",
    "    if loud:\n",
    "        print('HELLO, %s!' % name.upper())\n",
    "    else:\n",
    "        print('Hello, %s' % name)\n",
    "\n",
    "hello('Bob') # Prints \"Hello, Bob\"\n",
    "hello('Fred', loud=True)  # Prints \"HELLO, FRED!\""
   ]
  },
  {
   "cell_type": "markdown",
   "metadata": {},
   "source": [
    "## 任意参数列表"
   ]
  },
  {
   "cell_type": "markdown",
   "metadata": {},
   "source": [
    "Python可以使用任意数量的参数调用函数。这些参数将包装在一个元组中（请参阅元组和序列）。在参数数量可变之前，可能会出现零个或多个正常参数。\n",
    "通常，这些 variadic 参数将排在形式参数列表中的最后一个，因为它们会挖出传递给函数的所有剩余输入参数。 *args 在参数之后出现的任何形式参数都是“仅关键字”参数，这意味着它们只能用作关键字而不是位置参数。"
   ]
  },
  {
   "cell_type": "code",
   "execution_count": null,
   "metadata": {},
   "outputs": [],
   "source": [
    "def concat(*args, sep=\"/\"):\n",
    "    return sep.join(args)\n",
    "concat(\"earth\", \"mars\", \"venus\")\n",
    "'earth/mars/venus'\n",
    "concat(\"earth\", \"mars\", \"venus\", sep=\".\")\n",
    "'earth.mars.venus'"
   ]
  },
  {
   "cell_type": "markdown",
   "metadata": {},
   "source": [
    "当表单 **name 的最终形式参数存在时，它会收到一个字典（请参阅映射类型 — 字典），其中包含除与形式参数对应的参数之外的所有关键字参数。这可以与表单 *name 的形式参数结合使用，该参数接收一个元组，其中包含形式参数列表之外的位置参数。（ *name 必须出现在 **name 之前。例如，如果我们定义一个这样的函数："
   ]
  },
  {
   "cell_type": "code",
   "execution_count": null,
   "metadata": {},
   "outputs": [],
   "source": [
    "def cheeseshop(kind, *arguments, **keywords):\n",
    "    print(\"-- Do you have any\", kind, \"?\")\n",
    "    print(\"-- I'm sorry, we're all out of\", kind)\n",
    "    for arg in arguments:\n",
    "        print(arg)\n",
    "    print(\"-\" * 40)\n",
    "    keys = sorted(keywords.keys())\n",
    "    for kw in keys:\n",
    "        print(kw, \":\", keywords[kw])"
   ]
  },
  {
   "cell_type": "markdown",
   "metadata": {},
   "source": [
    "可以这样调用："
   ]
  },
  {
   "cell_type": "code",
   "execution_count": null,
   "metadata": {},
   "outputs": [],
   "source": [
    "cheeseshop(\"Limburger\", \"It's very runny, sir.\",\"It's really very, VERY runny, sir.\",shopkeeper=\"Michael Palin\",client=\"John Cleese\",sketch=\"Cheese Shop Sketch\")\n",
    "# -- Do you have any Limburger ?\n",
    "# -- I'm sorry, we're all out of Limburger\n",
    "# It's very runny, sir.\n",
    "# It's really very, VERY runny, sir.\n",
    "# ----------------------------------------\n",
    "# client : John Cleese\n",
    "# shopkeeper : Michael Palin\n",
    "# sketch : Cheese Shop Sketch"
   ]
  },
  {
   "cell_type": "code",
   "execution_count": null,
   "metadata": {},
   "outputs": [],
   "source": []
  }
 ],
 "metadata": {
  "language_info": {
   "name": "python"
  }
 },
 "nbformat": 4,
 "nbformat_minor": 2
}
