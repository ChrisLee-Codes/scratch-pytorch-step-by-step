{
 "cells": [
  {
   "cell_type": "markdown",
   "metadata": {},
   "source": [
    "# 1.3 Python中的函数和类"
   ]
  },
  {
   "cell_type": "markdown",
   "metadata": {},
   "source": [
    "Python 函数是使用 def 关键字定义的。例如："
   ]
  },
  {
   "cell_type": "code",
   "execution_count": null,
   "metadata": {},
   "outputs": [],
   "source": [
    "def sign(x):\n",
    "    if x > 0:\n",
    "        return 'positive'\n",
    "    elif x < 0:\n",
    "        return 'negative'\n",
    "    else:\n",
    "        return 'zero'\n",
    "\n",
    "for x in [-1, 0, 1]:\n",
    "    print(sign(x))\n",
    "# Prints \"negative\", \"zero\", \"positive\""
   ]
  },
  {
   "cell_type": "markdown",
   "metadata": {},
   "source": [
    "我们通常会定义函数来接受可选的关键字参数，如下所示："
   ]
  },
  {
   "cell_type": "code",
   "execution_count": null,
   "metadata": {},
   "outputs": [],
   "source": [
    "def hello(name, loud=False):\n",
    "    if loud:\n",
    "        print('HELLO, %s!' % name.upper())\n",
    "    else:\n",
    "        print('Hello, %s' % name)\n",
    "\n",
    "hello('Bob') # Prints \"Hello, Bob\"\n",
    "hello('Fred', loud=True)  # Prints \"HELLO, FRED!\""
   ]
  },
  {
   "cell_type": "markdown",
   "metadata": {},
   "source": [
    "## 任意参数列表"
   ]
  },
  {
   "cell_type": "markdown",
   "metadata": {},
   "source": [
    "Python可以使用任意数量的参数调用函数。这些参数将包装在一个元组中（请参阅元组和序列）。在参数数量可变之前，可能会出现零个或多个正常参数。\n",
    "通常，这些 variadic 参数将排在形式参数列表中的最后一个，因为它们会挖出传递给函数的所有剩余输入参数。 *args 在参数之后出现的任何形式参数都是“仅关键字”参数，这意味着它们只能用作关键字而不是位置参数。"
   ]
  },
  {
   "cell_type": "code",
   "execution_count": null,
   "metadata": {},
   "outputs": [],
   "source": [
    "def concat(*args, sep=\"/\"):\n",
    "    return sep.join(args)\n",
    "concat(\"earth\", \"mars\", \"venus\")\n",
    "'earth/mars/venus'\n",
    "concat(\"earth\", \"mars\", \"venus\", sep=\".\")\n",
    "'earth.mars.venus'"
   ]
  },
  {
   "cell_type": "markdown",
   "metadata": {},
   "source": [
    "当表单 **name 的最终形式参数存在时，它会收到一个字典（请参阅映射类型 — 字典），其中包含除与形式参数对应的参数之外的所有关键字参数。这可以与表单 *name 的形式参数结合使用，该参数接收一个元组，其中包含形式参数列表之外的位置参数。（ *name 必须出现在 **name 之前。例如，如果我们定义一个这样的函数："
   ]
  },
  {
   "cell_type": "code",
   "execution_count": null,
   "metadata": {},
   "outputs": [],
   "source": [
    "def cheeseshop(kind, *arguments, **keywords):\n",
    "    print(\"-- Do you have any\", kind, \"?\")\n",
    "    print(\"-- I'm sorry, we're all out of\", kind)\n",
    "    for arg in arguments:\n",
    "        print(arg)\n",
    "    print(\"-\" * 40)\n",
    "    keys = sorted(keywords.keys())\n",
    "    for kw in keys:\n",
    "        print(kw, \":\", keywords[kw])"
   ]
  },
  {
   "cell_type": "markdown",
   "metadata": {},
   "source": [
    "可以这样调用："
   ]
  },
  {
   "cell_type": "code",
   "execution_count": null,
   "metadata": {},
   "outputs": [],
   "source": [
    "cheeseshop(\"Limburger\", \"It's very runny, sir.\",\"It's really very, VERY runny, sir.\",shopkeeper=\"Michael Palin\",client=\"John Cleese\",sketch=\"Cheese Shop Sketch\")\n",
    "# -- Do you have any Limburger ?\n",
    "# -- I'm sorry, we're all out of Limburger\n",
    "# It's very runny, sir.\n",
    "# It's really very, VERY runny, sir.\n",
    "# ----------------------------------------\n",
    "# client : John Cleese\n",
    "# shopkeeper : Michael Palin\n",
    "# sketch : Cheese Shop Sketch"
   ]
  },
  {
   "cell_type": "markdown",
   "metadata": {},
   "source": [
    "## Classes "
   ]
  },
  {
   "cell_type": "markdown",
   "metadata": {},
   "source": [
    "在 Python 中定义类的语法很简单："
   ]
  },
  {
   "cell_type": "code",
   "execution_count": null,
   "metadata": {},
   "outputs": [],
   "source": [
    "class Greeter(object):\n",
    "\n",
    "    # Constructor\n",
    "    def __init__(self, name):\n",
    "        self.name = name  # Create an instance variable\n",
    "\n",
    "    # Instance method\n",
    "    def greet(self, loud=False):\n",
    "        if loud:\n",
    "            print('HELLO, %s!' % self.name.upper())\n",
    "        else:\n",
    "            print('Hello, %s' % self.name)"
   ]
  },
  {
   "cell_type": "markdown",
   "metadata": {},
   "source": [
    "在Python中，我们可以使用双下划线\"__\"来表示私有变量和私有函数。"
   ]
  },
  {
   "cell_type": "code",
   "execution_count": null,
   "metadata": {},
   "outputs": [],
   "source": [
    "class Test:\n",
    "    def __init__(self):\n",
    "        self.a = 12\n",
    "        self.__b = 13\n",
    "    \n",
    "test = Test()\n",
    "print(test.a)\n",
    "print(test.__b)\n",
    "# 12\n",
    "# AttributeError: 'Test' object has no attribute '__b'\n",
    "#           ^^^^^^^^\n",
    "#     print(test.__b)"
   ]
  },
  {
   "cell_type": "markdown",
   "metadata": {},
   "source": [
    "魔术方法（Magic methods），也被称为双下划线方法（dunder methods），是在类定义中使用双下划线（__）包围的方法。这些方法在特定的情境下被特殊调用，它们为类提供了一种定制行为的方式。以下是一些常见的魔术方法："
   ]
  },
  {
   "cell_type": "markdown",
   "metadata": {},
   "source": [
    "\\_\\_init\\_\\_: 构造方法，在创建对象时调用，用于初始化对象的属性。<br>\n",
    "\\_\\_str\\_\\_: 定义在使用 str(obj) 时返回的字符串表示形式。<br>\n",
    "\\_\\_repr\\_\\_: 定义在使用 repr(obj) 时返回的字符串表示形式。<br>\n",
    "\\_\\_len\\_\\_: 定义在使用 len(obj) 时返回对象的长度。<br>\n",
    "\\_\\_getitem\\_\\_ 和 \\_\\_setitem\\_\\_: 使对象可索引（可用于获取和设置元素）<br>\n",
    "\\_\\_call\\_\\_: 允许对象像函数一样被调用<br><br>\n",
    "\\_\\_add\\_\\_, \\_\\_sub\\_\\_, \\_\\_mul\\_\\_, \\_\\_truediv\\_\\_: 实现运算（+）,（-）,（*）,（/）"
   ]
  },
  {
   "cell_type": "markdown",
   "metadata": {},
   "source": [
    "在Python中，继承是一种面向对象编程的核心概念，它允许一个类（子类）继承另一个类（父类）的属性和方法。这种机制使得代码重用更加容易，同时也支持多态性。"
   ]
  },
  {
   "cell_type": "code",
   "execution_count": null,
   "metadata": {},
   "outputs": [],
   "source": [
    "class Animal:\n",
    "    def __init__(self, name):\n",
    "        self.name = name\n",
    "\n",
    "    def speak(self):\n",
    "        pass\n",
    "\n",
    "class Dog(Animal):  # Dog类继承自Animal类\n",
    "    def speak(self):\n",
    "        return \"Woof!\"\n",
    "\n",
    "class Cat(Animal):  # Cat类继承自Animal类\n",
    "    def speak(self):\n",
    "        return \"Meow!\""
   ]
  },
  {
   "cell_type": "markdown",
   "metadata": {},
   "source": [
    "在Python中，抽象类是一种特殊的类，它不能被实例化，而是用于被其他类继承。抽象类通常包含抽象方法，这些方法在子类中必须被实现。Python中使用 ABC 模块来定义抽象基类（Abstract Base Class）。"
   ]
  },
  {
   "cell_type": "code",
   "execution_count": null,
   "metadata": {},
   "outputs": [],
   "source": [
    "from abc import ABC, abstractmethod\n",
    "class Homework(ABC):\n",
    "    # 检测程序是否正确\n",
    "    @abstractmethod\n",
    "    def check(self, *func) -> bool:\n",
    "        pass\n",
    "    # 打印答案\n",
    "    @abstractmethod\n",
    "    def show(self) -> str:\n",
    "        pass\n",
    "    # 打印提示\n",
    "    @abstractmethod\n",
    "    def hint(self) -> str:\n",
    "        pass\n",
    "\n",
    "class Homework_1_1_1(Homework):\n",
    "    def check(self, func) -> bool:\n",
    "        try:\n",
    "            assert func([1,2,3,4,5]) == [1,2,3,4,5], self.assert_msg(\"[1,2,3,4,5]\")\n",
    "            assert func([1,2,2]) == [1,2], self.assert_msg(\"[1,2,2]\")\n",
    "            assert func(['12']) == ['12'], self.assert_msg(\"['12']\")\n",
    "            assert func([]) == [], self.assert_msg(\"[]\")\n",
    "        except AssertionError as e:\n",
    "            print(f\"Assertion Error: {e}\")\n",
    "            return False\n",
    "        return True\n",
    "    \n",
    "    def show(self) -> str:\n",
    "        code_string = 'def remove_duplicates(arr:list) -> str:\\n\\tres = []\\n\\tres=list(set(arr))\\n\\treturn res'\n",
    "        print(code_string)\n",
    "        return code_string\n",
    "    \n",
    "    def hint(self) -> str:\n",
    "        return \"Try using the set() function to eliminate duplicate elements and then convert it back to a list.\""
   ]
  },
  {
   "cell_type": "markdown",
   "metadata": {},
   "source": [
    "## Question 1\n",
    "给定一个名叫Shape的抽象类，请实现继承类：Circle，Square的求面积函数\n",
    "<br>难度: ⭐"
   ]
  },
  {
   "cell_type": "code",
   "execution_count": 1,
   "metadata": {},
   "outputs": [],
   "source": [
    "import sys\n",
    "sys.path.append('..')\n",
    "from homework import HomeworkFactory"
   ]
  },
  {
   "cell_type": "code",
   "execution_count": 2,
   "metadata": {},
   "outputs": [],
   "source": [
    "from abc import ABC, abstractmethod\n",
    "class Shape(ABC):\n",
    "    @abstractmethod\n",
    "    def area(self):\n",
    "        pass\n",
    "\n",
    "class Circle(Shape):\n",
    "    def __init__(self, radius):\n",
    "        self.radius = radius\n",
    "    # 补全下面的代码, PI取3.14\n",
    "    def area(self):\n",
    "        return 3.14 * self.radius ** 2\n",
    "        # pass\n",
    "\n",
    "class Square(Shape):\n",
    "    def __init__(self, side):\n",
    "        self.side = side\n",
    "    # 补全下面的代码\n",
    "    def area(self):\n",
    "        return self.side ** 2\n",
    "        # pass"
   ]
  },
  {
   "cell_type": "code",
   "execution_count": 3,
   "metadata": {},
   "outputs": [
    {
     "data": {
      "text/plain": [
       "True"
      ]
     },
     "execution_count": 3,
     "metadata": {},
     "output_type": "execute_result"
    }
   ],
   "source": [
    "homework = HomeworkFactory.get_homework('1.3.1')\n",
    "homework.check(Circle, Square)\n",
    "# homework.hint()\n",
    "# homework.show()"
   ]
  }
 ],
 "metadata": {
  "kernelspec": {
   "display_name": "huggingface",
   "language": "python",
   "name": "python3"
  },
  "language_info": {
   "codemirror_mode": {
    "name": "ipython",
    "version": 3
   },
   "file_extension": ".py",
   "mimetype": "text/x-python",
   "name": "python",
   "nbconvert_exporter": "python",
   "pygments_lexer": "ipython3",
   "version": "3.9.16"
  }
 },
 "nbformat": 4,
 "nbformat_minor": 2
}
