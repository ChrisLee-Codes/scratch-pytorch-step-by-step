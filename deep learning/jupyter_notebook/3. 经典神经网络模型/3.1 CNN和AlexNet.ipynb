{
 "cells": [
  {
   "cell_type": "markdown",
   "metadata": {},
   "source": [
    "# 3.1 CNN和AlexNet"
   ]
  },
  {
   "cell_type": "markdown",
   "metadata": {},
   "source": [
    "恭喜你已经完成了前两章的学习，在第三章，我们将介绍在深度学习领域那些最具有影响力的论文，这些论文是这个领域最重要的奠基之作，许多思想对后续的研究产生了深远的影响，在本节我们将介绍这一波深度学习热潮的起点，诞生自2012年ImageNet这个比赛上的模型，AlexNet。可以说没有AlexNet的成功，就不会吸引如此的的科学家和工程师在深度学习领域的研究，也就不会有现如今的人工智能狂潮。"
   ]
  },
  {
   "cell_type": "markdown",
   "metadata": {},
   "source": [
    "AlexNet 由 5 个卷积层和 3 个全连接层组成，这在当时被认为是相当深的网络。这种深度架构使网络能够捕捉复杂的特征。"
   ]
  },
  {
   "cell_type": "markdown",
   "metadata": {},
   "source": [
    "不同于市面上的一些教程只是简单的调用现成的模型或，本节会介绍AlexNet模型，用我们实现的mytorch从头构建AlexNet模型，最后，我们还会分析从如今的视角来看，AlexNet这种架构有哪些优点，又有哪些不足。"
   ]
  },
  {
   "cell_type": "markdown",
   "metadata": {},
   "source": [
    "我们把上一章构建的深度学习框架统一放到了一个文件夹mytorch中，我们后面可以通过调用和添加新的类以及函数，进行模型的构建"
   ]
  },
  {
   "cell_type": "code",
   "execution_count": 1,
   "metadata": {},
   "outputs": [],
   "source": [
    "import sys\n",
    "sys.path.append('.')"
   ]
  },
  {
   "cell_type": "code",
   "execution_count": 2,
   "metadata": {},
   "outputs": [],
   "source": [
    "import numpy as np\n",
    "from mytorch import Tensor\n",
    "from mytorch import nn"
   ]
  },
  {
   "cell_type": "code",
   "execution_count": 3,
   "metadata": {},
   "outputs": [
    {
     "name": "stdout",
     "output_type": "stream",
     "text": [
      "TestNet(\n",
      "  (l1): Linear(in_features=2, out_features=4, bias=True)\n",
      "  (l2): Linear(in_features=4, out_features=5, bias=True)\n",
      ")\n"
     ]
    },
    {
     "data": {
      "text/plain": [
       "Tensor(data=[[1.76742606 2.41372784 2.95783462 1.73855744 2.51871173]], grad=[[0. 0. 0. 0. 0.]], trainable=True)"
      ]
     },
     "execution_count": 3,
     "metadata": {},
     "output_type": "execute_result"
    }
   ],
   "source": [
    "class TestNet(nn.Module):\n",
    "    def __init__(self):\n",
    "        super().__init__()\n",
    "        self.l1 = nn.Linear(2, 4)\n",
    "        self.l2 = nn.Linear(4, 5)\n",
    "\n",
    "    def forward(self, x):\n",
    "        x = self.l1(x)\n",
    "        x = x.relu()\n",
    "        x = self.l2(x)\n",
    "        return x    \n",
    "    \n",
    "test = TestNet()\n",
    "print(test)\n",
    "test(Tensor.from_numpy(np.random.rand(1,2)))"
   ]
  }
 ],
 "metadata": {
  "kernelspec": {
   "display_name": "base",
   "language": "python",
   "name": "python3"
  },
  "language_info": {
   "codemirror_mode": {
    "name": "ipython",
    "version": 3
   },
   "file_extension": ".py",
   "mimetype": "text/x-python",
   "name": "python",
   "nbconvert_exporter": "python",
   "pygments_lexer": "ipython3",
   "version": "3.10.9"
  }
 },
 "nbformat": 4,
 "nbformat_minor": 2
}
