{
 "cells": [
  {
   "cell_type": "markdown",
   "metadata": {},
   "source": [
    "# 3.1 CNN和AlexNet"
   ]
  },
  {
   "cell_type": "markdown",
   "metadata": {},
   "source": [
    "恭喜你已经完成了前两章的学习，在第三章，我们将介绍在深度学习领域那些最具有影响力的论文，这些论文是这个领域最重要的奠基之作，许多思想对后续的研究产生了深远的影响，在本节我们将介绍这一波深度学习热潮的起点，诞生自2012年ImageNet这个比赛上的模型，AlexNet。可以说没有AlexNet的成功，就不会吸引如此的的科学家和工程师在深度学习领域的研究，也就不会有现如今的人工智能狂潮。"
   ]
  },
  {
   "cell_type": "markdown",
   "metadata": {},
   "source": [
    "AlexNet 由 5 个卷积层和 3 个全连接层组成，这在当时被认为是相当深的网络。这种深度架构使网络能够捕捉复杂的特征。"
   ]
  },
  {
   "cell_type": "markdown",
   "metadata": {},
   "source": [
    "不同于市面上的一些教程只是简单的调用现成的模型或，本节会介绍AlexNet模型，用我们实现的mytorch从头构建AlexNet模型，最后，我们还会分析从如今的视角来看，AlexNet这种架构有哪些优点，又有哪些不足。"
   ]
  },
  {
   "cell_type": "code",
   "execution_count": null,
   "metadata": {},
   "outputs": [],
   "source": []
  }
 ],
 "metadata": {
  "language_info": {
   "name": "python"
  }
 },
 "nbformat": 4,
 "nbformat_minor": 2
}
