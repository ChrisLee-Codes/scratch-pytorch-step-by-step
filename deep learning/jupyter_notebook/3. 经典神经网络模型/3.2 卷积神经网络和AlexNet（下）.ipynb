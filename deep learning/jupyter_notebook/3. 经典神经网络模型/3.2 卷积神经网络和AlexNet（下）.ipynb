{
 "cells": [
  {
   "cell_type": "markdown",
   "metadata": {},
   "source": [
    "# 3.2 卷积神经网络和AlexNet（下）"
   ]
  },
  {
   "cell_type": "markdown",
   "metadata": {},
   "source": [
    "AlexNet 由 5 个卷积层和 3 个全连接层组成，这在当时被认为是相当深的网络。这种深度架构使网络能够捕捉复杂的特征。"
   ]
  },
  {
   "cell_type": "markdown",
   "metadata": {},
   "source": [
    "不同于市面上的一些教程只是简单的调用现成的模型，本节会介绍AlexNet模型，用我们实现的mytorch从头构建AlexNet模型，最后，我们还会分析从如今的视角来看，AlexNet这种架构有哪些优点，又有哪些不足。"
   ]
  },
  {
   "cell_type": "markdown",
   "metadata": {},
   "source": [
    "我们把上一章构建的深度学习框架统一放到了一个文件夹mytorch中，我们后面可以通过调用和添加新的类以及函数，进行模型的构建"
   ]
  },
  {
   "cell_type": "code",
   "execution_count": null,
   "metadata": {},
   "outputs": [],
   "source": []
  }
 ],
 "metadata": {
  "language_info": {
   "name": "python"
  }
 },
 "nbformat": 4,
 "nbformat_minor": 2
}
