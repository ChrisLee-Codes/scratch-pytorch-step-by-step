{
 "cells": [
  {
   "cell_type": "markdown",
   "metadata": {},
   "source": [
    "# 3.1 卷积神经网络和AlexNet（上）"
   ]
  },
  {
   "cell_type": "markdown",
   "metadata": {},
   "source": [
    "恭喜你已经完成了前两章的学习，在第三章，我们将介绍在深度学习领域那些最具有影响力的论文，这些论文是这个领域最重要的奠基之作，许多思想对后续的研究产生了深远的影响，在本节我们将介绍这一波深度学习热潮的起点，诞生自2012年ImageNet这个比赛上的模型，AlexNet。可以说没有AlexNet的成功，就不会吸引如此的的科学家和工程师在深度学习领域的研究，也就不会有现如今的人工智能狂潮。"
   ]
  },
  {
   "cell_type": "markdown",
   "metadata": {},
   "source": [
    "在本节我们会介绍一种经典的模型，卷积神经网络，这种模型过去被普遍用来处理图像相关的任务，像图像识别，人脸识别，目标检测，像素分割。尽管这几年transformer架构在图像领域也取得了瞩目的进展，但我们从理解图像，编程练习，以及小规模的神经网络模型构建上，学习卷积神经网络也同样是有意义的。"
   ]
  },
  {
   "cell_type": "markdown",
   "metadata": {},
   "source": [
    "![LeNet网络结构](imgs/nn_lenet.png)"
   ]
  },
  {
   "cell_type": "markdown",
   "metadata": {},
   "source": [
    "我们首先把上一章的代码整合到mytorch文件夹中，看吧，我们的代码和语法结构已经和pytorch很像了，为每个能做到这一步的同学点个赞，你已经比这个世界上绝大多数干人工智能这一行的人强很多了，如果你能学完所有的课程，你将深刻理解深度学习领域的每一个算法细节，你能很容易的get到一篇最新论文的知识和技术点甚至自己立刻实现这一新技术，最后你甚至能看出一些论文可能存在的学术欺诈和一些算法背后的改进空间，你不光会成为一个知道自己知道的人，你还会成为一个不知道自己的知道的人。"
   ]
  },
  {
   "cell_type": "code",
   "execution_count": 1,
   "metadata": {},
   "outputs": [],
   "source": [
    "import sys\n",
    "sys.path.append('.')"
   ]
  },
  {
   "cell_type": "code",
   "execution_count": 2,
   "metadata": {},
   "outputs": [],
   "source": [
    "import numpy as np\n",
    "from mytorch import Tensor\n",
    "from mytorch import nn"
   ]
  },
  {
   "cell_type": "code",
   "execution_count": 3,
   "metadata": {},
   "outputs": [
    {
     "name": "stdout",
     "output_type": "stream",
     "text": [
      "TestNet(\n",
      "  (l1): Linear(in_features=2, out_features=4, bias=True)\n",
      "  (l2): Linear(in_features=4, out_features=5, bias=True)\n",
      ")\n"
     ]
    },
    {
     "data": {
      "text/plain": [
       "Tensor(data=[[1.76742606 2.41372784 2.95783462 1.73855744 2.51871173]], grad=[[0. 0. 0. 0. 0.]], trainable=True)"
      ]
     },
     "execution_count": 3,
     "metadata": {},
     "output_type": "execute_result"
    }
   ],
   "source": [
    "class TestNet(nn.Module):\n",
    "    def __init__(self):\n",
    "        super().__init__()\n",
    "        self.l1 = nn.Linear(2, 4)\n",
    "        self.l2 = nn.Linear(4, 5)\n",
    "\n",
    "    def forward(self, x):\n",
    "        x = self.l1(x)\n",
    "        x = x.relu()\n",
    "        x = self.l2(x)\n",
    "        return x    \n",
    "    \n",
    "test = TestNet()\n",
    "print(test)\n",
    "test(Tensor.from_numpy(np.random.rand(1,2)))"
   ]
  },
  {
   "cell_type": "markdown",
   "metadata": {},
   "source": [
    "## 卷积层\n",
    "卷积层可以产生一组平行的特征图（feature map），它通过在输入图像上滑动不同的卷积核并执行一定的运算而组成。此外，在每一个滑动的位置上，卷积核与输入图像之间会执行一个元素对应乘积并求和的运算以将感受野内的信息投影到特征图中的一个元素。这一滑动的过程可称为步幅 Z_s，步幅 Z_s 是控制输出特征图尺寸的一个因素。卷积核的尺寸要比输入图像小得多，且重叠或平行地作用于输入图像中，一张特征图中的所有元素都是通过一个卷积核计算得出的，也即一张特征图共享了相同的权重和偏置项。（摘自维基百科）"
   ]
  }
 ],
 "metadata": {
  "kernelspec": {
   "display_name": "base",
   "language": "python",
   "name": "python3"
  },
  "language_info": {
   "codemirror_mode": {
    "name": "ipython",
    "version": 3
   },
   "file_extension": ".py",
   "mimetype": "text/x-python",
   "name": "python",
   "nbconvert_exporter": "python",
   "pygments_lexer": "ipython3",
   "version": "3.10.9"
  }
 },
 "nbformat": 4,
 "nbformat_minor": 2
}
