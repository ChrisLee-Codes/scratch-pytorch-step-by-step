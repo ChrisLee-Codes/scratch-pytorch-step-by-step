{
 "cells": [
  {
   "cell_type": "markdown",
   "metadata": {},
   "source": [
    "# 2.1 神经元（下）"
   ]
  },
  {
   "cell_type": "markdown",
   "metadata": {},
   "source": [
    "在上一节中，我们用回归模型实现了一个简单的函数拟合，同时介绍了一些神经网络的基本概念。在本节，我们将探索神经网络更具有泛化的模型编写，同时实现更多基于pytorch这一由Meta（Facebook母公司）开发的深度学习框架的底层实现（这个框架的所有算法都由c/c++编写，再跟python代码绑定），我们将重点实现这一框架独有的动态图，这一有别于其余深度学习框架（Tensorflow）的静态图的独特实现。"
   ]
  },
  {
   "cell_type": "markdown",
   "metadata": {},
   "source": [
    "## 数字\n",
    "首先我们实现一个数字类，这个类有一个更独特的学名：张量（Tensor）"
   ]
  },
  {
   "cell_type": "code",
   "execution_count": 1,
   "metadata": {},
   "outputs": [],
   "source": [
    "class Tensor:\n",
    "    def __init__(self, data):\n",
    "        self.data = data\n",
    "\n",
    "    def __add__(self, other):\n",
    "        out = Tensor(self.data + other.data)\n",
    "        return out\n",
    "\n",
    "    def __mul__(self, other):\n",
    "        out = Tensor(self.data * other.data)\n",
    "        return out\n",
    "    \n",
    "    def __repr__(self):\n",
    "        return f\"Tensor(data={self.data})\""
   ]
  },
  {
   "cell_type": "markdown",
   "metadata": {},
   "source": [
    "我们定义了一个名叫Tensor的类。实现了针对加法和乘法的运算符重载，同时我们还实现了魔术方法\\_\\_repr\\_\\_用于打印我们的结果，我们来测试一下这个类："
   ]
  },
  {
   "cell_type": "code",
   "execution_count": 2,
   "metadata": {},
   "outputs": [
    {
     "name": "stdout",
     "output_type": "stream",
     "text": [
      "Tensor(data=27)\n",
      "Tensor(data=180)\n"
     ]
    }
   ],
   "source": [
    "a = Tensor(12)\n",
    "b = Tensor(15)\n",
    "print(a + b)\n",
    "print(a * b)"
   ]
  },
  {
   "cell_type": "markdown",
   "metadata": {},
   "source": [
    "回顾上一节我们代码实现反向传播的过程，我们都是首先计算一个损失函数，获得以可训练参数作为自变量的函数，然后对每个可训练参数计算偏导数，最后再计算用这个偏导数乘上步长，用来计算这次迭代后可训练参数的结果"
   ]
  },
  {
   "cell_type": "markdown",
   "metadata": {},
   "source": [
    "同时，根据链式法则，我们并不需要一口气就算出某个可训练参数的偏导数，我们可以用递归的方式逐层求偏导，算出这个可训练参数的偏导数，现在让我们修改这段代码，先算出这些基本运算符的导数，用于后续的递归"
   ]
  },
  {
   "cell_type": "code",
   "execution_count": 30,
   "metadata": {},
   "outputs": [],
   "source": [
    "class Tensor:\n",
    "    def __init__(self, data):\n",
    "        self.data = data\n",
    "        self.grad = 0.0\n",
    "        self._backward = lambda: None\n",
    "\n",
    "    def __add__(self, other):\n",
    "        # 如果被加数还不是Tensor类，就将其转化成Tensor类\n",
    "        if isinstance(other, (int, float)):\n",
    "            other = Tensor(other)\n",
    "        out = Tensor(self.data + other.data)\n",
    "        def _backward():\n",
    "            self.grad += 1.0 * out.grad\n",
    "            other.grad += 1.0 * out.grad\n",
    "        out._backward = _backward\n",
    "        return out\n",
    "\n",
    "    def __mul__(self, other):\n",
    "        # 如果被乘数还不是Tensor类，就将其转化成Tensor类\n",
    "        if isinstance(other, (int, float)):\n",
    "            other = Tensor(other)\n",
    "        out = Tensor(self.data * other.data)\n",
    "        def _backward():\n",
    "            self.grad += other.data * out.grad\n",
    "            other.grad += self.data * out.grad\n",
    "        out._backward = _backward\n",
    "        return out\n",
    "    \n",
    "    def __repr__(self):\n",
    "        return f\"Tensor(data={self.data})\""
   ]
  },
  {
   "cell_type": "markdown",
   "metadata": {},
   "source": [
    "(ps: grad是累加的，因为一个Tensor可能被用于计算多个Tensor的值)"
   ]
  },
  {
   "cell_type": "markdown",
   "metadata": {},
   "source": [
    "让我们来测试一个一个函数f(x)=a*b+c，当a=10,b=5,c=10时，分别计算f(x)对a,b,c的偏导，可以很容易的算出(∂f/∂a) = 5,(∂f/∂b) = 10, (∂f/∂c) = 1"
   ]
  },
  {
   "cell_type": "code",
   "execution_count": 31,
   "metadata": {},
   "outputs": [
    {
     "name": "stdout",
     "output_type": "stream",
     "text": [
      "1.0\n",
      "1.0\n",
      "5.0\n",
      "10.0\n"
     ]
    }
   ],
   "source": [
    "a = Tensor(10)\n",
    "b = Tensor(5)\n",
    "c = Tensor(10)\n",
    "d = a*b\n",
    "e = d+c\n",
    "e.grad=1\n",
    "e._backward()\n",
    "print(d.grad)\n",
    "print(c.grad)\n",
    "d._backward()\n",
    "print(a.grad)\n",
    "print(b.grad)"
   ]
  },
  {
   "cell_type": "markdown",
   "metadata": {},
   "source": [
    "现在，我们需要实现反向传播算法，我们需要保证算式计算偏导数的先后顺序，我们必须保证在链式法则中，算式中后算的值的偏导数被先算出来。其实熟悉算法的同学应该能知道我们需要用什么算法实现这一功能了，那就是拓扑排序。"
   ]
  },
  {
   "cell_type": "markdown",
   "metadata": {},
   "source": [
    "## 拓扑排序\n",
    "在计算机科学领域，有向图的拓扑排序（英语：Topological sorting）或拓扑测序（英语：Topological ordering）是对其顶点的一种线性排序，使得对于从顶点u 到顶点v的每个有向边uv，u 在排序中都在v之前。我们来实现Tensor类的反向传播算法，同时因为我们的反向传播是在整个算式算到最外面开始的，为了确保反向传播的顺序，我们需要在等式计算的时候，记录下通过计算得到当前值的tensor序列，我们用_prev表示"
   ]
  },
  {
   "cell_type": "code",
   "execution_count": 32,
   "metadata": {},
   "outputs": [],
   "source": [
    "class Tensor:\n",
    "    def __init__(self, data, _prev=()):\n",
    "        self.data = data\n",
    "        self.grad = 0.0\n",
    "        self._backward = lambda: None\n",
    "        self._prev = set(_prev)\n",
    "\n",
    "    def __add__(self, other):\n",
    "        # 如果被加数还不是Tensor类，就将其转化成Tensor类\n",
    "        if isinstance(other, (int, float)):\n",
    "            other = Tensor(other)\n",
    "        out = Tensor(self.data + other.data, (self, other))\n",
    "        def _backward():\n",
    "            self.grad += 1.0 * out.grad\n",
    "            other.grad += 1.0 * out.grad\n",
    "        out._backward = _backward\n",
    "        return out\n",
    "\n",
    "    def __mul__(self, other):\n",
    "        # 如果被乘数还不是Tensor类，就将其转化成Tensor类\n",
    "        if isinstance(other, (int, float)):\n",
    "            other = Tensor(other)\n",
    "        out = Tensor(self.data * other.data, (self, other))\n",
    "        def _backward():\n",
    "            self.grad += other.data * out.grad\n",
    "            other.grad += self.data * out.grad\n",
    "        out._backward = _backward\n",
    "        return out\n",
    "    \n",
    "    def backward(self):\n",
    "    \n",
    "        topo = []\n",
    "        # 记录下已访问过的Tensor集合\n",
    "        visited = set()\n",
    "        def build_topo(v):\n",
    "            if v not in visited:\n",
    "                visited.add(v)\n",
    "                for child in v._prev:\n",
    "                    build_topo(child)\n",
    "                topo.append(v)\n",
    "        build_topo(self)\n",
    "        # 因为上面得到的topo序列顺序是反的，所以我们在逐步计算偏导数时需要先进行逆序操作\n",
    "        self.grad = 1.0\n",
    "        for node in reversed(topo):\n",
    "            node._backward()\n",
    "    \n",
    "    def __repr__(self):\n",
    "        return f\"Tensor(data={self.data})\""
   ]
  },
  {
   "cell_type": "markdown",
   "metadata": {},
   "source": [
    "让我们再测试一遍函数f(x)=a*b+c，当a=10,b=5,c=10时，分别计算f(x)对a,b,c的偏导，可以很容易的算出(∂f/∂a) = 5,(∂f/∂b) = 10, (∂f/∂c) = 1"
   ]
  },
  {
   "cell_type": "code",
   "execution_count": 33,
   "metadata": {},
   "outputs": [
    {
     "name": "stdout",
     "output_type": "stream",
     "text": [
      "5.0\n",
      "10.0\n",
      "1.0\n"
     ]
    }
   ],
   "source": [
    "a = Tensor(10)\n",
    "b = Tensor(5)\n",
    "c = Tensor(10)\n",
    "e = a*b+c\n",
    "e.backward()\n",
    "print(a.grad)\n",
    "print(b.grad)\n",
    "print(c.grad)"
   ]
  },
  {
   "cell_type": "markdown",
   "metadata": {},
   "source": [
    "现在，我们大体上已经实现了一个Tensor类，我们现在还需要补上激活函数以及梯度下降迭代法，同时我们还需要补充左加号,减号和真除等基本魔术方法，让我们的程序可以更好的跑起来，来实现我们上一节的遗留问题"
   ]
  },
  {
   "cell_type": "code",
   "execution_count": 14,
   "metadata": {},
   "outputs": [],
   "source": [
    "import math\n",
    "class Tensor:\n",
    "    def __init__(self, data, _prev=()):\n",
    "        self.data = data\n",
    "        self.grad = 0.0\n",
    "        self._backward = lambda: None\n",
    "        self._prev = set(_prev)\n",
    "\n",
    "    def __add__(self, other):\n",
    "        if isinstance(other, (int, float)):\n",
    "            other = Tensor(other)\n",
    "        out = Tensor(self.data + other.data, (self, other))\n",
    "        def _backward():\n",
    "            self.grad += 1.0 * out.grad\n",
    "            other.grad += 1.0 * out.grad\n",
    "        out._backward = _backward\n",
    "        return out\n",
    "    \n",
    "    def __radd__(self, other):\n",
    "        return self.__add__(other)\n",
    "\n",
    "    def __sub__(self, other):\n",
    "        if isinstance(other, (int, float)):\n",
    "            other = Tensor(other)\n",
    "        out = Tensor(self.data - other.data, (self, other))\n",
    "        def _backward():\n",
    "            self.grad += 1.0 * out.grad\n",
    "            other.grad -= 1.0 * out.grad  # Subtract gradient for the other operand\n",
    "        out._backward = _backward\n",
    "        return out\n",
    "\n",
    "    def __rsub__(self, other):\n",
    "        return (-self).__add__(other)\n",
    "    \n",
    "    # 必须重写负号，否则(-self)会报错\n",
    "    def __neg__(self):\n",
    "        # Negation operation\n",
    "        neg_tensor = Tensor(-self.data, (self,))\n",
    "        def _backward():\n",
    "            self.grad -= 1.0 * neg_tensor.grad  \n",
    "        neg_tensor._backward = _backward\n",
    "        return neg_tensor\n",
    "\n",
    "    def __mul__(self, other):\n",
    "        if isinstance(other, (int, float)):\n",
    "            other = Tensor(other)\n",
    "        out = Tensor(self.data * other.data, (self, other))\n",
    "        def _backward():\n",
    "            self.grad += other.data * out.grad\n",
    "            other.grad += self.data * out.grad\n",
    "        out._backward = _backward\n",
    "        return out\n",
    "    \n",
    "    def __truediv__(self, other):\n",
    "        if isinstance(other, (int, float)):\n",
    "            other = Tensor(other)\n",
    "        out = Tensor(self.data / other.data)\n",
    "        def _backward():\n",
    "            self.grad += (1 / other.data) * out.grad\n",
    "            other.grad -= (self.data / (other.data ** 2)) * out.grad\n",
    "        out._backward = _backward\n",
    "        return out\n",
    "    \n",
    "    def tanh(self):\n",
    "        x = self.data\n",
    "        t = (math.exp(2*x) - 1)/(math.exp(2*x) + 1)\n",
    "        out = Tensor(t, (self, ))\n",
    "        \n",
    "        def _backward():\n",
    "            self.grad += (1 - t**2) * out.grad\n",
    "        out._backward = _backward\n",
    "        \n",
    "        return out\n",
    "    \n",
    "    def sigmoid(self):\n",
    "        x = self.data\n",
    "        s = 1 / (1 + math.exp(-x))\n",
    "        out = Tensor(s, (self,))\n",
    "\n",
    "        def _backward():\n",
    "            self.grad += (s * (1 - s)) * out.grad\n",
    "        out._backward = _backward\n",
    "\n",
    "        return out\n",
    "\n",
    "    def relu(self):\n",
    "        x = self.data\n",
    "        r = max(0, x)\n",
    "        out = Tensor(r, (self,))\n",
    "\n",
    "        def _backward():\n",
    "            self.grad += (1 if x > 0 else 0) * out.grad\n",
    "        out._backward = _backward\n",
    "\n",
    "        return out\n",
    "    \n",
    "    def gradient_descent_opt(self, learning_rate=0.001, grad_zero=True):\n",
    "        for v in self.visited:\n",
    "            v.data -= learning_rate * v.grad\n",
    "            if grad_zero:\n",
    "                v.grad = 0\n",
    "\n",
    "    def backward(self, ):\n",
    "        topo = []\n",
    "        # 记录下已访问过的Tensor集合\n",
    "        self.visited = set()\n",
    "        def build_topo(v):\n",
    "            if v not in self.visited:\n",
    "                self.visited.add(v)\n",
    "                for child in v._prev:\n",
    "                    build_topo(child)\n",
    "                topo.append(v)\n",
    "        build_topo(self)\n",
    "        # 因为上面得到的topo序列顺序是反的，所以我们在逐步计算偏导数时需要先进行逆序操作\n",
    "        self.grad = 1.0\n",
    "        for node in reversed(topo):\n",
    "            node._backward()\n",
    "    \n",
    "    def __repr__(self):\n",
    "        return f\"Tensor(data={self.data})\""
   ]
  },
  {
   "cell_type": "code",
   "execution_count": 28,
   "metadata": {},
   "outputs": [
    {
     "name": "stdout",
     "output_type": "stream",
     "text": [
      "5.0\n",
      "10.0\n",
      "1.0\n",
      "Tensor(data=9.995) 0\n",
      "Tensor(data=4.99) 0\n",
      "Tensor(data=9.999) 0\n"
     ]
    }
   ],
   "source": [
    "a = Tensor(10)\n",
    "b = Tensor(5)\n",
    "c = Tensor(10)\n",
    "e = a*b+c\n",
    "e.backward()\n",
    "print(a.grad)\n",
    "print(b.grad)\n",
    "print(c.grad)\n",
    "e.gradient_descent_opt()\n",
    "print(a,a.grad)\n",
    "print(b,b.grad)\n",
    "print(c,c.grad)"
   ]
  },
  {
   "cell_type": "markdown",
   "metadata": {},
   "source": [
    "此外，我们还需要设置，哪些量是可训练的，哪些量是不可训练的"
   ]
  },
  {
   "cell_type": "code",
   "execution_count": 24,
   "metadata": {},
   "outputs": [],
   "source": [
    "import math\n",
    "class Tensor:\n",
    "    def __init__(self, data, _prev=(), trainable=True):\n",
    "        self.data = data\n",
    "        self.grad = 0.0\n",
    "        self._backward = lambda: None\n",
    "        self._prev = set(_prev)\n",
    "        self.trainable=trainable\n",
    "\n",
    "    def __add__(self, other):\n",
    "        if isinstance(other, (int, float)):\n",
    "            other = Tensor(other, trainable=False)\n",
    "        out = Tensor(self.data + other.data, (self, other))\n",
    "        def _backward():\n",
    "            self.grad += 1.0 * out.grad\n",
    "            other.grad += 1.0 * out.grad\n",
    "        out._backward = _backward\n",
    "        return out\n",
    "    \n",
    "    def __radd__(self, other):\n",
    "        return self.__add__(other)\n",
    "\n",
    "    def __sub__(self, other):\n",
    "        if isinstance(other, (int, float)):\n",
    "            other = Tensor(other, trainable=False)\n",
    "        out = Tensor(self.data - other.data, (self, other))\n",
    "        def _backward():\n",
    "            self.grad += 1.0 * out.grad\n",
    "            other.grad -= 1.0 * out.grad  # Subtract gradient for the other operand\n",
    "        out._backward = _backward\n",
    "        return out\n",
    "\n",
    "    def __rsub__(self, other):\n",
    "        return (-self).__add__(other)\n",
    "    \n",
    "    # 必须重写负号，否则(-self)会报错\n",
    "    def __neg__(self):\n",
    "        # Negation operation\n",
    "        neg_tensor = Tensor(-self.data, (self,))\n",
    "        def _backward():\n",
    "            self.grad -= 1.0 * neg_tensor.grad  \n",
    "        neg_tensor._backward = _backward\n",
    "        return neg_tensor\n",
    "\n",
    "    def __mul__(self, other):\n",
    "        if isinstance(other, (int, float)):\n",
    "            other = Tensor(other, trainable=False)\n",
    "        out = Tensor(self.data * other.data, (self, other))\n",
    "        def _backward():\n",
    "            self.grad += other.data * out.grad\n",
    "            other.grad += self.data * out.grad\n",
    "        out._backward = _backward\n",
    "        return out\n",
    "    \n",
    "    def __truediv__(self, other):\n",
    "        if isinstance(other, (int, float)):\n",
    "            other = Tensor(other, trainable=False)\n",
    "        out = Tensor(self.data / other.data, (self, other))\n",
    "        def _backward():\n",
    "            self.grad += (1 / other.data) * out.grad\n",
    "            other.grad -= (self.data / (other.data ** 2)) * out.grad\n",
    "        out._backward = _backward\n",
    "        return out\n",
    "    \n",
    "    def tanh(self):\n",
    "        x = self.data\n",
    "        t = (math.exp(2*x) - 1)/(math.exp(2*x) + 1)\n",
    "        out = Tensor(t, (self, ))\n",
    "        \n",
    "        def _backward():\n",
    "            self.grad += (1 - t**2) * out.grad\n",
    "        out._backward = _backward\n",
    "        \n",
    "        return out\n",
    "    \n",
    "    def sigmoid(self):\n",
    "        x = self.data\n",
    "        s = 1 / (1 + math.exp(-x))\n",
    "        out = Tensor(s, (self,))\n",
    "\n",
    "        def _backward():\n",
    "            self.grad += (s * (1 - s)) * out.grad\n",
    "        out._backward = _backward\n",
    "\n",
    "        return out\n",
    "\n",
    "    def relu(self):\n",
    "        x = self.data\n",
    "        r = max(0, x)\n",
    "        out = Tensor(r, (self,))\n",
    "\n",
    "        def _backward():\n",
    "            self.grad += (1 if x > 0 else 0) * out.grad\n",
    "        out._backward = _backward\n",
    "\n",
    "        return out\n",
    "    \n",
    "    def gradient_descent_opt(self, learning_rate=0.001, grad_zero=True):\n",
    "        for v in self.visited:\n",
    "            if v.trainable:\n",
    "                v.data -= learning_rate * v.grad\n",
    "            if grad_zero:\n",
    "                v.grad = 0\n",
    "\n",
    "    def backward(self, ):\n",
    "        topo = []\n",
    "        # 记录下已访问过的Tensor集合\n",
    "        self.visited = set()\n",
    "        def build_topo(v):\n",
    "            if v not in self.visited:\n",
    "                self.visited.add(v)\n",
    "                for child in v._prev:\n",
    "                    build_topo(child)\n",
    "                topo.append(v)\n",
    "        build_topo(self)\n",
    "        # 因为上面得到的topo序列顺序是反的，所以我们在逐步计算偏导数时需要先进行逆序操作\n",
    "        self.grad = 1.0\n",
    "        for node in reversed(topo):\n",
    "            node._backward()\n",
    "    \n",
    "    def __repr__(self):\n",
    "        return f\"Tensor(data={self.data}, trainable={self.trainable})\""
   ]
  },
  {
   "cell_type": "markdown",
   "metadata": {},
   "source": [
    "现在，让我们用我们本节编写的程序实现上节的遗留问题，我们先制作训练集和测试集，训练集是用于训练模型的，测试集是用于检验模型训练质量的，我们会随机在生成的数据集上选择80个点为训练集，20个点为测试集"
   ]
  },
  {
   "cell_type": "code",
   "execution_count": 2,
   "metadata": {},
   "outputs": [],
   "source": [
    "def func(x):\n",
    "    return 4*x*x - 5"
   ]
  },
  {
   "cell_type": "code",
   "execution_count": 33,
   "metadata": {},
   "outputs": [],
   "source": [
    "import numpy as np\n",
    "\n",
    "x_values = np.linspace(-10, 10, 30)\n",
    "y_values = func(x_values)\n",
    "\n",
    "# Randomly choosing training data\n",
    "random_indices = np.random.choice(len(x_values), size=20, replace=False)\n",
    "train_x = x_values[random_indices]\n",
    "train_y = y_values[random_indices]\n",
    "\n",
    "# The remaining data can be considered as the testing dataset\n",
    "test_x = np.delete(x_values, random_indices)\n",
    "test_y = np.delete(y_values, random_indices)"
   ]
  },
  {
   "cell_type": "markdown",
   "metadata": {},
   "source": [
    "让我们看看我们制作的训练集和测试集分布"
   ]
  },
  {
   "cell_type": "code",
   "execution_count": 34,
   "metadata": {},
   "outputs": [
    {
     "data": {
      "image/png": "[encoded data removed]",
      "text/plain": [
       "<Figure size 640x480 with 1 Axes>"
      ]
     },
     "metadata": {},
     "output_type": "display_data"
    }
   ],
   "source": [
    "import matplotlib.pyplot as plt\n",
    "\n",
    "plt.scatter(train_x, train_y, label='Training Data')\n",
    "plt.scatter(test_x, test_y, color='r', label='Testing Data')\n",
    "plt.xlabel('x')\n",
    "plt.ylabel('y')\n",
    "plt.title('Quadratic Function and Datasets')\n",
    "plt.legend()\n",
    "plt.show()"
   ]
  },
  {
   "cell_type": "code",
   "execution_count": 35,
   "metadata": {},
   "outputs": [
    {
     "name": "stdout",
     "output_type": "stream",
     "text": [
      "Epoch 0/5000, Loss: Tensor(data=38320.67860588423, trainable=True)\n",
      "Epoch 100/5000, Loss: Tensor(data=20867.565794754017, trainable=True)\n",
      "Epoch 200/5000, Loss: Tensor(data=17422.294904094335, trainable=True)\n",
      "Epoch 300/5000, Loss: Tensor(data=16769.202637832615, trainable=True)\n",
      "Epoch 400/5000, Loss: Tensor(data=15832.52338833761, trainable=True)\n",
      "Epoch 500/5000, Loss: Tensor(data=14994.491558139138, trainable=True)\n",
      "Epoch 600/5000, Loss: Tensor(data=14331.311943820017, trainable=True)\n",
      "Epoch 700/5000, Loss: Tensor(data=13804.16126559454, trainable=True)\n",
      "Epoch 800/5000, Loss: Tensor(data=13372.333957020193, trainable=True)\n",
      "Epoch 900/5000, Loss: Tensor(data=13031.824230500171, trainable=True)\n",
      "Epoch 1000/5000, Loss: Tensor(data=12755.807709972096, trainable=True)\n",
      "Epoch 1100/5000, Loss: Tensor(data=12530.23556966376, trainable=True)\n",
      "Epoch 1200/5000, Loss: Tensor(data=12344.51372981522, trainable=True)\n",
      "Epoch 1300/5000, Loss: Tensor(data=12142.78592402906, trainable=True)\n",
      "Epoch 1400/5000, Loss: Tensor(data=12037.016313769067, trainable=True)\n",
      "Epoch 1500/5000, Loss: Tensor(data=11948.726392946124, trainable=True)\n",
      "Epoch 1600/5000, Loss: Tensor(data=11874.837257894682, trainable=True)\n",
      "Epoch 1700/5000, Loss: Tensor(data=11812.372590747076, trainable=True)\n",
      "Epoch 1800/5000, Loss: Tensor(data=11759.045942013072, trainable=True)\n",
      "Epoch 1900/5000, Loss: Tensor(data=11713.085505020552, trainable=True)\n",
      "Epoch 2000/5000, Loss: Tensor(data=11673.105048973292, trainable=True)\n",
      "Epoch 2100/5000, Loss: Tensor(data=11638.006798570173, trainable=True)\n",
      "Epoch 2200/5000, Loss: Tensor(data=11606.906140757572, trainable=True)\n",
      "Epoch 2300/5000, Loss: Tensor(data=11579.069607877267, trainable=True)\n",
      "Epoch 2400/5000, Loss: Tensor(data=11554.310081897615, trainable=True)\n",
      "Epoch 2500/5000, Loss: Tensor(data=11539.040712690745, trainable=True)\n",
      "Epoch 2600/5000, Loss: Tensor(data=11526.843992419017, trainable=True)\n",
      "Epoch 2700/5000, Loss: Tensor(data=11515.854992688832, trainable=True)\n",
      "Epoch 2800/5000, Loss: Tensor(data=11505.875677850492, trainable=True)\n",
      "Epoch 2900/5000, Loss: Tensor(data=11496.765969509019, trainable=True)\n",
      "Epoch 3000/5000, Loss: Tensor(data=11488.413945282486, trainable=True)\n",
      "Epoch 3100/5000, Loss: Tensor(data=11480.729153980425, trainable=True)\n",
      "Epoch 3200/5000, Loss: Tensor(data=11473.637637744752, trainable=True)\n",
      "Epoch 3300/5000, Loss: Tensor(data=11467.078172694624, trainable=True)\n",
      "Epoch 3400/5000, Loss: Tensor(data=11460.999425558184, trainable=True)\n",
      "Epoch 3500/5000, Loss: Tensor(data=11455.357799282967, trainable=True)\n",
      "Epoch 3600/5000, Loss: Tensor(data=11450.115797484214, trainable=True)\n",
      "Epoch 3700/5000, Loss: Tensor(data=11445.240779900132, trainable=True)\n",
      "Epoch 3800/5000, Loss: Tensor(data=11440.704012712995, trainable=True)\n",
      "Epoch 3900/5000, Loss: Tensor(data=11436.47994138082, trainable=True)\n",
      "Epoch 4000/5000, Loss: Tensor(data=11432.545631496541, trainable=True)\n",
      "Epoch 4100/5000, Loss: Tensor(data=11428.88033663202, trainable=True)\n",
      "Epoch 4200/5000, Loss: Tensor(data=11425.465162238796, trainable=True)\n",
      "Epoch 4300/5000, Loss: Tensor(data=11422.282802293917, trainable=True)\n",
      "Epoch 4400/5000, Loss: Tensor(data=11419.317331116978, trainable=True)\n",
      "Epoch 4500/5000, Loss: Tensor(data=11416.5540371085, trainable=True)\n",
      "Epoch 4600/5000, Loss: Tensor(data=11413.979288419348, trainable=True)\n",
      "Epoch 4700/5000, Loss: Tensor(data=11411.5804230182, trainable=True)\n",
      "Epoch 4800/5000, Loss: Tensor(data=11409.345657476531, trainable=True)\n",
      "Epoch 4900/5000, Loss: Tensor(data=11407.26401018737, trainable=True)\n"
     ]
    }
   ],
   "source": [
    "import random\n",
    "w1 = [Tensor(random.random()) for _ in range(10)]\n",
    "b1 = [Tensor(random.random()) for _ in range(10)]\n",
    "w2 = [Tensor(random.random()) for _ in range(10)]\n",
    "b2 = Tensor(random.random())\n",
    "epoch = 5000\n",
    "def forward(x):\n",
    "    temp1 = [w1[i]*x+b1[i] for i in range(len(w1))]\n",
    "    temp2 = [temp1[i].relu() for i in range(len(temp1))]\n",
    "    res = 0\n",
    "    for i in range(len(temp2)):\n",
    "        res += temp2[i]*w2[i]\n",
    "    res += b2\n",
    "    return res\n",
    "for i in range(epoch):\n",
    "    loss = Tensor(0)\n",
    "    for j in range(len(train_x)):\n",
    "        y = forward(train_x[j])\n",
    "        temp = (train_y[j]-y)*(train_y[j]-y)\n",
    "        loss += (train_y[j]-y)*(train_y[j]-y)\n",
    "    loss = loss/len(train_x)\n",
    "    loss.backward()\n",
    "    loss.gradient_descent_opt()\n",
    "    if i % 100 == 0:\n",
    "        print(f'Epoch {i}/{epoch}, Loss: {loss}')\n"
   ]
  },
  {
   "cell_type": "code",
   "execution_count": 39,
   "metadata": {},
   "outputs": [
    {
     "data": {
      "text/plain": [
       "Tensor(data=107.58151261431068, trainable=True)"
      ]
     },
     "execution_count": 39,
     "metadata": {},
     "output_type": "execute_result"
    }
   ],
   "source": [
    "forward(-19)"
   ]
  },
  {
   "cell_type": "code",
   "execution_count": 2,
   "metadata": {},
   "outputs": [
    {
     "name": "stdout",
     "output_type": "stream",
     "text": [
      "Epoch 0/1000, Loss: 723.5714111328125\n",
      "Epoch 100/1000, Loss: 65.84455871582031\n",
      "Epoch 200/1000, Loss: 51.168853759765625\n",
      "Epoch 300/1000, Loss: 34.91449737548828\n",
      "Epoch 400/1000, Loss: 24.89947509765625\n",
      "Epoch 500/1000, Loss: 24.177091598510742\n",
      "Epoch 600/1000, Loss: 23.86868667602539\n",
      "Epoch 700/1000, Loss: 23.467601776123047\n",
      "Epoch 800/1000, Loss: 20.106321334838867\n",
      "Epoch 900/1000, Loss: 18.34964370727539\n"
     ]
    },
    {
     "data": {
      "image/png": "[encoded data removed]",
      "text/plain": [
       "<Figure size 640x480 with 1 Axes>"
      ]
     },
     "metadata": {},
     "output_type": "display_data"
    }
   ],
   "source": [
    "import torch\n",
    "import torch.nn as nn\n",
    "import torch.optim as optim\n",
    "import matplotlib.pyplot as plt\n",
    "import numpy as np\n",
    "\n",
    "# Step 2: Define the quadratic function\n",
    "def quadratic_function(x):\n",
    "    return 2 * x**2 - 3 * x + 1\n",
    "\n",
    "# Step 3: Create a dataset\n",
    "# For simplicity, let's create a dataset with 20 data points between -5 and 5\n",
    "X_train = torch.linspace(-5, 5, 20).unsqueeze(dim=1)  # Add an extra dimension\n",
    "y_train = quadratic_function(X_train)\n",
    "\n",
    "# Step 4: Define a simple neural network model\n",
    "class SimpleNN(nn.Module):\n",
    "    def __init__(self):\n",
    "        super(SimpleNN, self).__init__()\n",
    "        self.fc1 = nn.Linear(1, 10)\n",
    "        self.relu = nn.ReLU()\n",
    "        self.fc2 = nn.Linear(10, 1)\n",
    "\n",
    "    def forward(self, x):\n",
    "        x = self.fc1(x)\n",
    "        x = self.relu(x)\n",
    "        x = self.fc2(x)\n",
    "        return x\n",
    "\n",
    "# Step 5: Define a loss function\n",
    "criterion = nn.MSELoss()\n",
    "\n",
    "# Step 6: Train the model\n",
    "model = SimpleNN()\n",
    "epochs = 1000\n",
    "\n",
    "# Step 7: Choose an optimizer\n",
    "optimizer = optim.SGD(model.parameters(), lr=0.01)\n",
    "\n",
    "for epoch in range(epochs):\n",
    "    # Forward pass\n",
    "    predictions = model(X_train)\n",
    "\n",
    "    # Compute the loss\n",
    "    loss = criterion(predictions, y_train)\n",
    "\n",
    "    # Backward pass and optimization\n",
    "    optimizer.zero_grad()\n",
    "    loss.backward()\n",
    "    optimizer.step()\n",
    "\n",
    "    if epoch % 100 == 0:\n",
    "        print(f'Epoch {epoch}/{epochs}, Loss: {loss.item()}')\n",
    "\n",
    "# Evaluate the trained model\n",
    "with torch.no_grad():\n",
    "    X_test = torch.linspace(-6, 6, 100).unsqueeze(dim=1)\n",
    "    predictions = model(X_test)\n",
    "\n",
    "# Plot the results\n",
    "plt.scatter(X_train.numpy(), y_train.numpy(), label='True data')\n",
    "plt.plot(X_test.numpy(), predictions.numpy(), 'r-', label='Predictions')\n",
    "plt.xlabel('X')\n",
    "plt.ylabel('y')\n",
    "plt.legend()\n",
    "plt.show()\n"
   ]
  }
 ],
 "metadata": {
  "kernelspec": {
   "display_name": "base",
   "language": "python",
   "name": "python3"
  },
  "language_info": {
   "codemirror_mode": {
    "name": "ipython",
    "version": 3
   },
   "file_extension": ".py",
   "mimetype": "text/x-python",
   "name": "python",
   "nbconvert_exporter": "python",
   "pygments_lexer": "ipython3",
   "version": "3.10.9"
  }
 },
 "nbformat": 4,
 "nbformat_minor": 2
}
