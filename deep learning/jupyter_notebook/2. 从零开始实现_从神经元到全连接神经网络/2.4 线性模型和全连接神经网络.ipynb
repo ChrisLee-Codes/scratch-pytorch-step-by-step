{
 "cells": [
  {
   "cell_type": "markdown",
   "metadata": {},
   "source": [
    "# 2.4 线性模型和全连接神经网络"
   ]
  },
  {
   "cell_type": "markdown",
   "metadata": {},
   "source": [
    "在本节，我们会介绍一种最基本的神经网络模型，全连接神经网络，其实在之前的几节，我们所实现的就是全连接神经网络，但是在本节我们会用pytorch的风格实现Module类，实现更方便的构建模型的函数，同时我们会介绍何为欠拟合，过拟合，以及一些消除欠拟合过拟合的方法。"
   ]
  },
  {
   "cell_type": "markdown",
   "metadata": {},
   "source": [
    "我们首先把我们在张量这几节中实现的内容放到一个py文件中，方便我们之后的调用"
   ]
  },
  {
   "cell_type": "code",
   "execution_count": 1,
   "metadata": {},
   "outputs": [],
   "source": [
    "import sys\n",
    "sys.path.append('.')"
   ]
  },
  {
   "cell_type": "code",
   "execution_count": 2,
   "metadata": {},
   "outputs": [],
   "source": [
    "from mytorch import Tensor"
   ]
  },
  {
   "cell_type": "markdown",
   "metadata": {},
   "source": [
    "我们先实现Module类，这个类会是所有模型的夫类，主要实现了模型结构的定义，参数的初始化，同时记录和追踪模型的参数变化，当你没有定义模型前向传播的方法的时候，会报错，因为python中没有借口，我们用raise来表示，让每个子类保证实现了forward方法，同时我们希望这个类的实例被调用时，自带运行forward来求解，所以实现了\\_\\_call\\_\\_方法"
   ]
  },
  {
   "cell_type": "code",
   "execution_count": null,
   "metadata": {},
   "outputs": [],
   "source": [
    "class Module:\n",
    "    def __init__(self):\n",
    "        self._parameters = {}\n",
    "        self._modules = {}\n",
    "    def forward(self, *input):\n",
    "        raise NotImplementedError\n",
    "    def __call__(self, *input):\n",
    "        return self.forward(*input)"
   ]
  },
  {
   "cell_type": "markdown",
   "metadata": {},
   "source": [
    "我们来实现一个简单的线性模型，测试我们的Module类"
   ]
  },
  {
   "cell_type": "code",
   "execution_count": 7,
   "metadata": {},
   "outputs": [],
   "source": [
    "import numpy as np\n",
    "class Linear(Module):\n",
    "    def __init__(self, in_features, out_features):\n",
    "        super().__init__()\n",
    "        self.w = Tensor.from_numpy(np.random.rand(in_features, out_features))\n",
    "        self.b = Tensor.from_numpy(np.random.rand(1, out_features))\n",
    "    \n",
    "    def forward(self, x):\n",
    "        return x*self.w+self.b"
   ]
  },
  {
   "cell_type": "code",
   "execution_count": 30,
   "metadata": {},
   "outputs": [
    {
     "name": "stdout",
     "output_type": "stream",
     "text": [
      "Tensor(data=[[3.42376874 3.12571958 2.25732465 2.44523259 2.78703212]], grad=[[0. 0. 0. 0. 0.]], trainable=True)\n"
     ]
    }
   ],
   "source": [
    "in_features = 10\n",
    "out_features = 5\n",
    "\n",
    "linear_layer = Linear(in_features, out_features)\n",
    "x = Tensor.from_numpy(np.random.rand(1, in_features))\n",
    "output = linear_layer(x)\n",
    "\n",
    "print(output)"
   ]
  },
  {
   "cell_type": "markdown",
   "metadata": {},
   "source": [
    "现在我们希望实现named_parameters方法，这个方法会记录这个模型的各层的形状和数值"
   ]
  },
  {
   "cell_type": "markdown",
   "metadata": {},
   "source": [
    "\\_\\_setattr\\_\\_ 是一个特殊方法（或称魔术方法）在 Python 中，用于拦截对对象属性的赋值操作。当你试图给对象的一个属性赋值时，这个方法会被自动调用。"
   ]
  },
  {
   "cell_type": "code",
   "execution_count": 24,
   "metadata": {},
   "outputs": [
    {
     "ename": "ValueError",
     "evalue": "Value must be positive",
     "output_type": "error",
     "traceback": [
      "\u001b[0;31m---------------------------------------------------------------------------\u001b[0m",
      "\u001b[0;31mValueError\u001b[0m                                Traceback (most recent call last)",
      "Cell \u001b[0;32mIn[24], line 11\u001b[0m\n\u001b[1;32m      8\u001b[0m         \u001b[38;5;28mobject\u001b[39m\u001b[38;5;241m.\u001b[39m\u001b[38;5;21m__setattr__\u001b[39m(\u001b[38;5;28mself\u001b[39m, name, value)\n\u001b[1;32m     10\u001b[0m obj \u001b[38;5;241m=\u001b[39m PositiveNumber(\u001b[38;5;241m5\u001b[39m)\n\u001b[0;32m---> 11\u001b[0m obj\u001b[38;5;241m.\u001b[39mvalue \u001b[38;5;241m=\u001b[39m \u001b[38;5;241m-\u001b[39m\u001b[38;5;241m10\u001b[39m\n",
      "Cell \u001b[0;32mIn[24], line 7\u001b[0m, in \u001b[0;36mPositiveNumber.__setattr__\u001b[0;34m(self, name, value)\u001b[0m\n\u001b[1;32m      5\u001b[0m \u001b[38;5;28;01mdef\u001b[39;00m \u001b[38;5;21m__setattr__\u001b[39m(\u001b[38;5;28mself\u001b[39m, name, value):\n\u001b[1;32m      6\u001b[0m     \u001b[38;5;28;01mif\u001b[39;00m name \u001b[38;5;241m==\u001b[39m \u001b[38;5;124m'\u001b[39m\u001b[38;5;124mvalue\u001b[39m\u001b[38;5;124m'\u001b[39m \u001b[38;5;129;01mand\u001b[39;00m value \u001b[38;5;241m<\u001b[39m \u001b[38;5;241m0\u001b[39m:\n\u001b[0;32m----> 7\u001b[0m         \u001b[38;5;28;01mraise\u001b[39;00m \u001b[38;5;167;01mValueError\u001b[39;00m(\u001b[38;5;124m\"\u001b[39m\u001b[38;5;124mValue must be positive\u001b[39m\u001b[38;5;124m\"\u001b[39m)\n\u001b[1;32m      8\u001b[0m     \u001b[38;5;28mobject\u001b[39m\u001b[38;5;241m.\u001b[39m\u001b[38;5;21m__setattr__\u001b[39m(\u001b[38;5;28mself\u001b[39m, name, value)\n",
      "\u001b[0;31mValueError\u001b[0m: Value must be positive"
     ]
    }
   ],
   "source": [
    "class PositiveNumber:\n",
    "    def __init__(self, initial_value):\n",
    "        self.value = initial_value\n",
    "\n",
    "    def __setattr__(self, name, value):\n",
    "        if name == 'value' and value < 0:\n",
    "            raise ValueError(\"Value must be positive\")\n",
    "        object.__setattr__(self, name, value)\n",
    "\n",
    "obj = PositiveNumber(5)\n",
    "obj.value = -10  # 这会触发 ValueError"
   ]
  },
  {
   "cell_type": "markdown",
   "metadata": {},
   "source": [
    "我们会用\\_\\_setattr\\_\\_及时更新parameters和modules列表，然后通过调用named_parameters打印参数列表"
   ]
  },
  {
   "cell_type": "markdown",
   "metadata": {},
   "source": [
    " object.\\_\\_setattr\\_\\_(self, name, value) 用于在对象中设置一个属性。在 Python 中，当我们为一个对象设置属性时，如 self.attribute = value，实际上是在调用该对象的 \\_\\_setattr\\_\\_ 方法。但在我们自定义的 \\_\\_setattr\\_\\_ 方法中，如果直接使用 self.attribute = value，这会再次触发 \\_\\_setattr\\_\\_，从而导致无限递归。为了避免这种情况，在自定义的 \\_\\_setattr\\_\\_ 方法中设置属性时，我们应该使用基类（在这种情况下是 object 类）的 \\_\\_setattr\\_\\_ 方法。这样做可以直接在对象上设置属性，而不会再次触发 \\_\\_setattr\\_\\_。"
   ]
  },
  {
   "cell_type": "code",
   "execution_count": 37,
   "metadata": {},
   "outputs": [],
   "source": [
    "class Module:\n",
    "    def __init__(self):\n",
    "        self._parameters = {}\n",
    "        self._modules = {}\n",
    "\n",
    "    def forward(self, *input):\n",
    "        raise NotImplementedError\n",
    "\n",
    "    def __call__(self, *input):\n",
    "        return self.forward(*input)\n",
    "\n",
    "    def named_parameters(self, memo=None, prefix=''):\n",
    "        if memo is None:\n",
    "            memo = set()\n",
    "\n",
    "        for name, param in self._parameters.items():\n",
    "            if param not in memo:\n",
    "                memo.add(param)\n",
    "                yield prefix + name, param\n",
    "\n",
    "        for name, mod in self._modules.items():\n",
    "            submodule_prefix = prefix + name + '.'\n",
    "            for name, param in mod.named_parameters(memo, submodule_prefix):\n",
    "                yield name, param\n",
    "\n",
    "    def add_module(self, name, module):\n",
    "        if not isinstance(module, Module) and module is not None:\n",
    "            raise TypeError(\"{} is not a Module subclass\".format(type(module)))\n",
    "        self._modules[name] = module\n",
    "\n",
    "    def __setattr__(self, name, value):\n",
    "        if isinstance(value, Tensor):\n",
    "            object.__setattr__(self, name, value)  # 先设置属性\n",
    "            self._parameters[name] = value          # 然后添加到参数字典中\n",
    "        elif isinstance(value, Module):\n",
    "            self.add_module(name, value)\n",
    "        else:\n",
    "            object.__setattr__(self, name, value)\n"
   ]
  },
  {
   "cell_type": "markdown",
   "metadata": {},
   "source": [
    "我们再来测试一下Linear这个类的参数列表"
   ]
  },
  {
   "cell_type": "code",
   "execution_count": 41,
   "metadata": {},
   "outputs": [],
   "source": [
    "class Linear(Module):\n",
    "    def __init__(self, in_features, out_features):\n",
    "        super().__init__()\n",
    "        self.w = Tensor.from_numpy(np.random.rand(in_features, out_features))\n",
    "        self.b = Tensor.from_numpy(np.random.rand(1, out_features))\n",
    "    \n",
    "    def forward(self, x):\n",
    "        return x*self.w+self.b"
   ]
  },
  {
   "cell_type": "code",
   "execution_count": 35,
   "metadata": {},
   "outputs": [
    {
     "name": "stdout",
     "output_type": "stream",
     "text": [
      "w Tensor(data=[[0.28560691 0.8672992  0.88595457 0.11899527 0.80321621]\n",
      " [0.33203469 0.50307607 0.952864   0.36840301 0.2706384 ]\n",
      " [0.97381182 0.42024134 0.49264617 0.38794506 0.59529725]\n",
      " [0.08387362 0.30237794 0.26447564 0.93845391 0.16128597]\n",
      " [0.40830442 0.53959658 0.50127377 0.21927836 0.40006681]\n",
      " [0.58827379 0.74123641 0.43745427 0.13590099 0.01242012]\n",
      " [0.43069382 0.59793469 0.20412198 0.08868851 0.90757201]\n",
      " [0.90974848 0.84735987 0.02955181 0.62218034 0.69052233]\n",
      " [0.86024293 0.16520478 0.07021213 0.7879401  0.93634434]\n",
      " [0.51618515 0.21954381 0.40886429 0.09486535 0.58629152]], grad=[[0. 0. 0. 0. 0.]\n",
      " [0. 0. 0. 0. 0.]\n",
      " [0. 0. 0. 0. 0.]\n",
      " [0. 0. 0. 0. 0.]\n",
      " [0. 0. 0. 0. 0.]\n",
      " [0. 0. 0. 0. 0.]\n",
      " [0. 0. 0. 0. 0.]\n",
      " [0. 0. 0. 0. 0.]\n",
      " [0. 0. 0. 0. 0.]\n",
      " [0. 0. 0. 0. 0.]], trainable=True)\n",
      "b Tensor(data=[[0.53476514 0.53942268 0.36438901 0.44903074 0.13865316]], grad=[[0. 0. 0. 0. 0.]], trainable=True)\n"
     ]
    }
   ],
   "source": [
    "for name, parameter in linear_layer.named_parameters():\n",
    "    print(name, parameter)"
   ]
  },
  {
   "cell_type": "code",
   "execution_count": 38,
   "metadata": {},
   "outputs": [
    {
     "name": "stdout",
     "output_type": "stream",
     "text": [
      "Module()\n"
     ]
    }
   ],
   "source": [
    "print(linear_layer)"
   ]
  },
  {
   "cell_type": "markdown",
   "metadata": {},
   "source": [
    "现在，我们完成\\_\\_repr\\_\\_方法，来自动打印模型的网络结构"
   ]
  },
  {
   "cell_type": "code",
   "execution_count": 3,
   "metadata": {},
   "outputs": [],
   "source": [
    "class Module:\n",
    "    def __init__(self):\n",
    "        self._parameters = {}\n",
    "        self._modules = {}\n",
    "\n",
    "    def forward(self, *input):\n",
    "        raise NotImplementedError\n",
    "\n",
    "    def __call__(self, *input):\n",
    "        return self.forward(*input)\n",
    "\n",
    "    def named_parameters(self, memo=None, prefix=''):\n",
    "        if memo is None:\n",
    "            memo = set()\n",
    "\n",
    "        for name, param in self._parameters.items():\n",
    "            if param not in memo:\n",
    "                memo.add(param)\n",
    "                yield prefix + name, param\n",
    "\n",
    "        for name, mod in self._modules.items():\n",
    "            submodule_prefix = prefix + name + '.'\n",
    "            for name, param in mod.named_parameters(memo, submodule_prefix):\n",
    "                yield name, param\n",
    "\n",
    "    def add_module(self, name, module):\n",
    "        if not isinstance(module, Module) and module is not None:\n",
    "            raise TypeError(\"{} is not a Module subclass\".format(type(module)))\n",
    "        self._modules[name] = module\n",
    "\n",
    "    def __setattr__(self, name, value):\n",
    "        if isinstance(value, Tensor):\n",
    "            object.__setattr__(self, name, value)  # 先设置属性\n",
    "            self._parameters[name] = value          # 然后添加到参数字典中\n",
    "        elif isinstance(value, Module):\n",
    "            object.__setattr__(self, name, value)\n",
    "            self.add_module(name, value)\n",
    "        else:\n",
    "            object.__setattr__(self, name, value)\n",
    "\n",
    "    def __repr__(self):\n",
    "        lines = [self.__class__.__name__ + '(']\n",
    "        for name, module in self._modules.items():\n",
    "            mod_str = repr(module).replace('\\n', '\\n  ')\n",
    "            lines.append(f\"  ({name}): {mod_str}\")\n",
    "        lines.append(')')\n",
    "        return '\\n'.join(lines)\n",
    "    "
   ]
  },
  {
   "cell_type": "markdown",
   "metadata": {},
   "source": [
    "接下来我们再对Linear类进行简单的修改，让其变成我们的标准模型类"
   ]
  },
  {
   "cell_type": "code",
   "execution_count": 8,
   "metadata": {},
   "outputs": [],
   "source": [
    "class Linear(Module):\n",
    "    def __init__(self, in_features, out_features, bias = True):\n",
    "        super().__init__()\n",
    "        self.in_features = in_features\n",
    "        self.out_features = out_features\n",
    "        self.bias = bias\n",
    "        self.w = Tensor.from_numpy(np.random.rand(in_features, out_features))\n",
    "        if bias:\n",
    "            self.b = Tensor.from_numpy(np.random.rand(1, out_features))\n",
    "    \n",
    "    def forward(self, x):\n",
    "        return x*self.w+self.b if self.bias else x*self.w\n",
    "    \n",
    "    def __repr__(self):\n",
    "        return f\"Linear(in_features={self.in_features}, out_features={self.out_features}, bias={self.bias})\""
   ]
  },
  {
   "cell_type": "code",
   "execution_count": 9,
   "metadata": {},
   "outputs": [],
   "source": [
    "l = Linear(5,6)"
   ]
  },
  {
   "cell_type": "code",
   "execution_count": 10,
   "metadata": {},
   "outputs": [
    {
     "data": {
      "text/plain": [
       "Tensor(data=[[0.81330898 1.05057424 1.38959737 1.19471005 1.97466068 1.53463671]], grad=[[0. 0. 0. 0. 0. 0.]], trainable=True)"
      ]
     },
     "execution_count": 10,
     "metadata": {},
     "output_type": "execute_result"
    }
   ],
   "source": [
    "l(Tensor.from_numpy(np.random.rand(1, 5)))"
   ]
  },
  {
   "cell_type": "code",
   "execution_count": 19,
   "metadata": {},
   "outputs": [
    {
     "name": "stdout",
     "output_type": "stream",
     "text": [
      "Linear(in_features=5, out_features=6, bias=True)\n"
     ]
    }
   ],
   "source": [
    "print(l)"
   ]
  },
  {
   "cell_type": "code",
   "execution_count": 5,
   "metadata": {},
   "outputs": [],
   "source": [
    "class Net(Module):\n",
    "    def __init__(self):\n",
    "        super().__init__()\n",
    "        self.l1 = Linear(5,6)\n",
    "        self.l2 = Linear(6,8)\n",
    "        self.l3 = Linear(8,2)\n",
    "    \n",
    "    def forward(self, x):\n",
    "        x = self.l1(x)\n",
    "        x = x.relu()\n",
    "        x = self.l2(x)\n",
    "        x = x.relu()\n",
    "        x = self.l3(x)\n",
    "        return x"
   ]
  },
  {
   "cell_type": "code",
   "execution_count": 10,
   "metadata": {},
   "outputs": [],
   "source": [
    "net = Net()"
   ]
  },
  {
   "cell_type": "code",
   "execution_count": 12,
   "metadata": {},
   "outputs": [
    {
     "data": {
      "text/plain": [
       "Tensor(data=[[12.79896658 18.67358734]], grad=[[0. 0.]], trainable=True)"
      ]
     },
     "execution_count": 12,
     "metadata": {},
     "output_type": "execute_result"
    }
   ],
   "source": [
    "net(Tensor.from_numpy(np.random.rand(1, 5)))"
   ]
  },
  {
   "cell_type": "code",
   "execution_count": 13,
   "metadata": {},
   "outputs": [
    {
     "name": "stdout",
     "output_type": "stream",
     "text": [
      "Net(\n",
      "  (l1): Linear(in_features=5, out_features=6, bias=True)\n",
      "  (l2): Linear(in_features=6, out_features=8, bias=True)\n",
      "  (l3): Linear(in_features=8, out_features=2, bias=True)\n",
      ")\n"
     ]
    }
   ],
   "source": [
    "print(net)"
   ]
  },
  {
   "cell_type": "markdown",
   "metadata": {},
   "source": [
    "最后，让我们摩饭pytorch风格，实现MSELoss类做一个收尾"
   ]
  },
  {
   "cell_type": "code",
   "execution_count": 24,
   "metadata": {},
   "outputs": [],
   "source": [
    "class MSELoss(Module):\n",
    "    def __init__(self):\n",
    "        super().__init__()\n",
    "\n",
    "    def forward(self, pred, target):\n",
    "        loss = 0\n",
    "        for i in range(len(target)):\n",
    "            loss += (pred[i] - target[i]) ** 2\n",
    "        return loss/len(target)\n"
   ]
  },
  {
   "cell_type": "markdown",
   "metadata": {},
   "source": [
    "我们实现随机批次类，我们会在每个epoch开始的时候随机打乱整个数据集，再按批次大小从中取数，知道取完再开始下一个循环的随机打乱"
   ]
  },
  {
   "cell_type": "code",
   "execution_count": 27,
   "metadata": {},
   "outputs": [],
   "source": [
    "class BatchSampler:\n",
    "    def __init__(self, train_x, train_y, batch_size):\n",
    "        self.train_x = train_x\n",
    "        self.train_y = train_y\n",
    "        self.batch_size = batch_size\n",
    "        self.indices = np.arange(len(self.train_x))\n",
    "        np.random.shuffle(self.indices)  # Shuffle at the start\n",
    "        self.current_index = 0\n",
    "\n",
    "    def next_batch(self):\n",
    "        if self.current_index + self.batch_size > len(self.train_x):\n",
    "            # Reshuffle the indices and reset the current index\n",
    "            np.random.shuffle(self.indices)\n",
    "            self.current_index = 0\n",
    "\n",
    "        batch_indices = self.indices[self.current_index:self.current_index + self.batch_size]\n",
    "        self.current_index += self.batch_size\n",
    "        return self.train_x[batch_indices], self.train_y[batch_indices]"
   ]
  },
  {
   "cell_type": "markdown",
   "metadata": {},
   "source": [
    "最后，让我们简单测试一下我们的程序"
   ]
  },
  {
   "cell_type": "code",
   "execution_count": 15,
   "metadata": {},
   "outputs": [],
   "source": [
    "def func(x):\n",
    "    return 4*x*x - 5\n",
    "\n",
    "import numpy as np\n",
    "x_values = np.linspace(-10, 10, 100)\n",
    "y_values = func(x_values)\n",
    "\n",
    "# Randomly choosing training data\n",
    "random_indices = np.random.choice(len(x_values), size=80, replace=False)\n",
    "train_x = x_values[random_indices]\n",
    "train_y = y_values[random_indices]\n",
    "\n",
    "# The remaining data can be considered as the testing dataset\n",
    "test_x = np.delete(x_values, random_indices)\n",
    "test_y = np.delete(y_values, random_indices)"
   ]
  },
  {
   "cell_type": "code",
   "execution_count": 22,
   "metadata": {},
   "outputs": [],
   "source": [
    "class Net(Module):\n",
    "    def __init__(self):\n",
    "        super().__init__()\n",
    "        self.l1 = Linear(1,10)\n",
    "        self.l2 = Linear(10,1)\n",
    "    \n",
    "    def forward(self, x):\n",
    "        x = self.l1(x)\n",
    "        x = x.relu()\n",
    "        x = self.l2(x)\n",
    "        return x"
   ]
  },
  {
   "cell_type": "code",
   "execution_count": 23,
   "metadata": {},
   "outputs": [
    {
     "data": {
      "text/plain": [
       "Tensor(data=[[24.96495613]], grad=[[0.]], trainable=True)"
      ]
     },
     "execution_count": 23,
     "metadata": {},
     "output_type": "execute_result"
    }
   ],
   "source": [
    "net = Net()\n",
    "net(12)"
   ]
  },
  {
   "cell_type": "code",
   "execution_count": 25,
   "metadata": {},
   "outputs": [
    {
     "name": "stdout",
     "output_type": "stream",
     "text": [
      "Epoch 0/30000, Loss: Tensor(data=[[26729.37141054]], grad=0, trainable=True)\n",
      "Epoch 100/30000, Loss: Tensor(data=[[25864.72083901]], grad=0, trainable=True)\n",
      "Epoch 200/30000, Loss: Tensor(data=[[24781.41256319]], grad=0, trainable=True)\n",
      "Epoch 300/30000, Loss: Tensor(data=[[23525.79243365]], grad=0, trainable=True)\n",
      "Epoch 400/30000, Loss: Tensor(data=[[22167.15960628]], grad=0, trainable=True)\n",
      "Epoch 500/30000, Loss: Tensor(data=[[20785.49761644]], grad=0, trainable=True)\n",
      "Epoch 600/30000, Loss: Tensor(data=[[19457.35929128]], grad=0, trainable=True)\n",
      "Epoch 700/30000, Loss: Tensor(data=[[18242.58115979]], grad=0, trainable=True)\n",
      "Epoch 800/30000, Loss: Tensor(data=[[17174.78401135]], grad=0, trainable=True)\n",
      "Epoch 900/30000, Loss: Tensor(data=[[16258.30128231]], grad=0, trainable=True)\n",
      "Epoch 1000/30000, Loss: Tensor(data=[[15471.91651013]], grad=0, trainable=True)\n",
      "Epoch 1100/30000, Loss: Tensor(data=[[14779.9219655]], grad=0, trainable=True)\n",
      "Epoch 1200/30000, Loss: Tensor(data=[[14144.70130823]], grad=0, trainable=True)\n",
      "Epoch 1300/30000, Loss: Tensor(data=[[13536.76105437]], grad=0, trainable=True)\n",
      "Epoch 1400/30000, Loss: Tensor(data=[[12938.33797277]], grad=0, trainable=True)\n",
      "Epoch 1500/30000, Loss: Tensor(data=[[12341.34242529]], grad=0, trainable=True)\n",
      "Epoch 1600/30000, Loss: Tensor(data=[[11744.05429364]], grad=0, trainable=True)\n",
      "Epoch 1700/30000, Loss: Tensor(data=[[11148.30668041]], grad=0, trainable=True)\n",
      "Epoch 1800/30000, Loss: Tensor(data=[[10556.89351682]], grad=0, trainable=True)\n",
      "Epoch 1900/30000, Loss: Tensor(data=[[9972.80557163]], grad=0, trainable=True)\n",
      "Epoch 2000/30000, Loss: Tensor(data=[[9399.24584922]], grad=0, trainable=True)\n",
      "Epoch 2100/30000, Loss: Tensor(data=[[8839.0767975]], grad=0, trainable=True)\n",
      "Epoch 2200/30000, Loss: Tensor(data=[[8295.06619333]], grad=0, trainable=True)\n",
      "Epoch 2300/30000, Loss: Tensor(data=[[7769.70779418]], grad=0, trainable=True)\n",
      "Epoch 2400/30000, Loss: Tensor(data=[[7265.09233659]], grad=0, trainable=True)\n",
      "Epoch 2500/30000, Loss: Tensor(data=[[6783.32930845]], grad=0, trainable=True)\n",
      "Epoch 2600/30000, Loss: Tensor(data=[[6325.79221572]], grad=0, trainable=True)\n",
      "Epoch 2700/30000, Loss: Tensor(data=[[5894.14335414]], grad=0, trainable=True)\n",
      "Epoch 2800/30000, Loss: Tensor(data=[[5489.39196716]], grad=0, trainable=True)\n",
      "Epoch 2900/30000, Loss: Tensor(data=[[5112.22808451]], grad=0, trainable=True)\n",
      "Epoch 3000/30000, Loss: Tensor(data=[[4762.84111355]], grad=0, trainable=True)\n",
      "Epoch 3100/30000, Loss: Tensor(data=[[4441.39766356]], grad=0, trainable=True)\n",
      "Epoch 3200/30000, Loss: Tensor(data=[[4147.71838103]], grad=0, trainable=True)\n",
      "Epoch 3300/30000, Loss: Tensor(data=[[3881.3367767]], grad=0, trainable=True)\n",
      "Epoch 3400/30000, Loss: Tensor(data=[[3641.62006766]], grad=0, trainable=True)\n",
      "Epoch 3500/30000, Loss: Tensor(data=[[3427.12036502]], grad=0, trainable=True)\n",
      "Epoch 3600/30000, Loss: Tensor(data=[[3236.23003079]], grad=0, trainable=True)\n",
      "Epoch 3700/30000, Loss: Tensor(data=[[3067.61247289]], grad=0, trainable=True)\n",
      "Epoch 3800/30000, Loss: Tensor(data=[[2920.02324874]], grad=0, trainable=True)\n",
      "Epoch 3900/30000, Loss: Tensor(data=[[2790.99495071]], grad=0, trainable=True)\n",
      "Epoch 4000/30000, Loss: Tensor(data=[[2678.2728507]], grad=0, trainable=True)\n",
      "Epoch 4100/30000, Loss: Tensor(data=[[2580.13602178]], grad=0, trainable=True)\n",
      "Epoch 4200/30000, Loss: Tensor(data=[[2494.50486379]], grad=0, trainable=True)\n",
      "Epoch 4300/30000, Loss: Tensor(data=[[2419.46920346]], grad=0, trainable=True)\n",
      "Epoch 4400/30000, Loss: Tensor(data=[[2353.05480767]], grad=0, trainable=True)\n",
      "Epoch 4500/30000, Loss: Tensor(data=[[2293.65999033]], grad=0, trainable=True)\n",
      "Epoch 4600/30000, Loss: Tensor(data=[[2239.5874116]], grad=0, trainable=True)\n",
      "Epoch 4700/30000, Loss: Tensor(data=[[2189.79829184]], grad=0, trainable=True)\n",
      "Epoch 4800/30000, Loss: Tensor(data=[[2143.62759926]], grad=0, trainable=True)\n",
      "Epoch 4900/30000, Loss: Tensor(data=[[2099.85584326]], grad=0, trainable=True)\n",
      "Epoch 5000/30000, Loss: Tensor(data=[[2057.78585927]], grad=0, trainable=True)\n",
      "Epoch 5100/30000, Loss: Tensor(data=[[2017.16718655]], grad=0, trainable=True)\n",
      "Epoch 5200/30000, Loss: Tensor(data=[[1977.75607306]], grad=0, trainable=True)\n",
      "Epoch 5300/30000, Loss: Tensor(data=[[1939.208309]], grad=0, trainable=True)\n",
      "Epoch 5400/30000, Loss: Tensor(data=[[1901.42470464]], grad=0, trainable=True)\n",
      "Epoch 5500/30000, Loss: Tensor(data=[[1864.37767228]], grad=0, trainable=True)\n",
      "Epoch 5600/30000, Loss: Tensor(data=[[1828.26562279]], grad=0, trainable=True)\n",
      "Epoch 5700/30000, Loss: Tensor(data=[[1792.99902099]], grad=0, trainable=True)\n",
      "Epoch 5800/30000, Loss: Tensor(data=[[1758.54294627]], grad=0, trainable=True)\n",
      "Epoch 5900/30000, Loss: Tensor(data=[[1725.04721873]], grad=0, trainable=True)\n",
      "Epoch 6000/30000, Loss: Tensor(data=[[1692.49014309]], grad=0, trainable=True)\n",
      "Epoch 6100/30000, Loss: Tensor(data=[[1660.86977133]], grad=0, trainable=True)\n",
      "Epoch 6200/30000, Loss: Tensor(data=[[1630.27047133]], grad=0, trainable=True)\n",
      "Epoch 6300/30000, Loss: Tensor(data=[[1600.64092443]], grad=0, trainable=True)\n",
      "Epoch 6400/30000, Loss: Tensor(data=[[1571.98720801]], grad=0, trainable=True)\n",
      "Epoch 6500/30000, Loss: Tensor(data=[[1544.37814586]], grad=0, trainable=True)\n",
      "Epoch 6600/30000, Loss: Tensor(data=[[1517.85176787]], grad=0, trainable=True)\n",
      "Epoch 6700/30000, Loss: Tensor(data=[[1492.31227818]], grad=0, trainable=True)\n",
      "Epoch 6800/30000, Loss: Tensor(data=[[1467.74563869]], grad=0, trainable=True)\n",
      "Epoch 6900/30000, Loss: Tensor(data=[[1444.07324876]], grad=0, trainable=True)\n",
      "Epoch 7000/30000, Loss: Tensor(data=[[1421.30227051]], grad=0, trainable=True)\n",
      "Epoch 7100/30000, Loss: Tensor(data=[[1399.29542883]], grad=0, trainable=True)\n",
      "Epoch 7200/30000, Loss: Tensor(data=[[1378.0636119]], grad=0, trainable=True)\n",
      "Epoch 7300/30000, Loss: Tensor(data=[[1357.5164857]], grad=0, trainable=True)\n",
      "Epoch 7400/30000, Loss: Tensor(data=[[1337.57977527]], grad=0, trainable=True)\n",
      "Epoch 7500/30000, Loss: Tensor(data=[[1318.23994985]], grad=0, trainable=True)\n",
      "Epoch 7600/30000, Loss: Tensor(data=[[1299.52856894]], grad=0, trainable=True)\n",
      "Epoch 7700/30000, Loss: Tensor(data=[[1281.34784755]], grad=0, trainable=True)\n",
      "Epoch 7800/30000, Loss: Tensor(data=[[1263.71437277]], grad=0, trainable=True)\n",
      "Epoch 7900/30000, Loss: Tensor(data=[[1246.57360731]], grad=0, trainable=True)\n",
      "Epoch 8000/30000, Loss: Tensor(data=[[1229.96901078]], grad=0, trainable=True)\n",
      "Epoch 8100/30000, Loss: Tensor(data=[[1213.80350304]], grad=0, trainable=True)\n",
      "Epoch 8200/30000, Loss: Tensor(data=[[1198.09896667]], grad=0, trainable=True)\n",
      "Epoch 8300/30000, Loss: Tensor(data=[[1182.84185628]], grad=0, trainable=True)\n",
      "Epoch 8400/30000, Loss: Tensor(data=[[1167.9970983]], grad=0, trainable=True)\n",
      "Epoch 8500/30000, Loss: Tensor(data=[[1153.54706397]], grad=0, trainable=True)\n",
      "Epoch 8600/30000, Loss: Tensor(data=[[1139.4888349]], grad=0, trainable=True)\n",
      "Epoch 8700/30000, Loss: Tensor(data=[[1125.68304569]], grad=0, trainable=True)\n",
      "Epoch 8800/30000, Loss: Tensor(data=[[1112.18589594]], grad=0, trainable=True)\n",
      "Epoch 8900/30000, Loss: Tensor(data=[[1098.91806675]], grad=0, trainable=True)\n",
      "Epoch 9000/30000, Loss: Tensor(data=[[1085.75822199]], grad=0, trainable=True)\n",
      "Epoch 9100/30000, Loss: Tensor(data=[[1072.65622841]], grad=0, trainable=True)\n",
      "Epoch 9200/30000, Loss: Tensor(data=[[1059.66606479]], grad=0, trainable=True)\n",
      "Epoch 9300/30000, Loss: Tensor(data=[[1046.84011449]], grad=0, trainable=True)\n",
      "Epoch 9400/30000, Loss: Tensor(data=[[1034.28831838]], grad=0, trainable=True)\n",
      "Epoch 9500/30000, Loss: Tensor(data=[[1022.09186237]], grad=0, trainable=True)\n",
      "Epoch 9600/30000, Loss: Tensor(data=[[1010.22256502]], grad=0, trainable=True)\n",
      "Epoch 9700/30000, Loss: Tensor(data=[[998.61543223]], grad=0, trainable=True)\n",
      "Epoch 9800/30000, Loss: Tensor(data=[[987.23744201]], grad=0, trainable=True)\n",
      "Epoch 9900/30000, Loss: Tensor(data=[[976.0452816]], grad=0, trainable=True)\n",
      "Epoch 10000/30000, Loss: Tensor(data=[[964.9957609]], grad=0, trainable=True)\n",
      "Epoch 10100/30000, Loss: Tensor(data=[[954.08117737]], grad=0, trainable=True)\n",
      "Epoch 10200/30000, Loss: Tensor(data=[[943.27551467]], grad=0, trainable=True)\n",
      "Epoch 10300/30000, Loss: Tensor(data=[[932.5679901]], grad=0, trainable=True)\n",
      "Epoch 10400/30000, Loss: Tensor(data=[[921.94283221]], grad=0, trainable=True)\n",
      "Epoch 10500/30000, Loss: Tensor(data=[[911.37516249]], grad=0, trainable=True)\n",
      "Epoch 10600/30000, Loss: Tensor(data=[[900.84725963]], grad=0, trainable=True)\n",
      "Epoch 10700/30000, Loss: Tensor(data=[[890.34872001]], grad=0, trainable=True)\n",
      "Epoch 10800/30000, Loss: Tensor(data=[[879.86436796]], grad=0, trainable=True)\n",
      "Epoch 10900/30000, Loss: Tensor(data=[[869.37470753]], grad=0, trainable=True)\n",
      "Epoch 11000/30000, Loss: Tensor(data=[[858.86443225]], grad=0, trainable=True)\n",
      "Epoch 11100/30000, Loss: Tensor(data=[[848.32120094]], grad=0, trainable=True)\n",
      "Epoch 11200/30000, Loss: Tensor(data=[[837.73380695]], grad=0, trainable=True)\n",
      "Epoch 11300/30000, Loss: Tensor(data=[[827.08803696]], grad=0, trainable=True)\n",
      "Epoch 11400/30000, Loss: Tensor(data=[[816.36537497]], grad=0, trainable=True)\n",
      "Epoch 11500/30000, Loss: Tensor(data=[[805.55533359]], grad=0, trainable=True)\n",
      "Epoch 11600/30000, Loss: Tensor(data=[[794.64586382]], grad=0, trainable=True)\n",
      "Epoch 11700/30000, Loss: Tensor(data=[[783.62990955]], grad=0, trainable=True)\n",
      "Epoch 11800/30000, Loss: Tensor(data=[[772.49962162]], grad=0, trainable=True)\n",
      "Epoch 11900/30000, Loss: Tensor(data=[[761.24265415]], grad=0, trainable=True)\n",
      "Epoch 12000/30000, Loss: Tensor(data=[[749.85451474]], grad=0, trainable=True)\n",
      "Epoch 12100/30000, Loss: Tensor(data=[[738.32735275]], grad=0, trainable=True)\n",
      "Epoch 12200/30000, Loss: Tensor(data=[[726.63292127]], grad=0, trainable=True)\n",
      "Epoch 12300/30000, Loss: Tensor(data=[[714.77937254]], grad=0, trainable=True)\n",
      "Epoch 12400/30000, Loss: Tensor(data=[[702.77036995]], grad=0, trainable=True)\n",
      "Epoch 12500/30000, Loss: Tensor(data=[[690.61739485]], grad=0, trainable=True)\n",
      "Epoch 12600/30000, Loss: Tensor(data=[[678.3375381]], grad=0, trainable=True)\n",
      "Epoch 12700/30000, Loss: Tensor(data=[[665.95232675]], grad=0, trainable=True)\n",
      "Epoch 12800/30000, Loss: Tensor(data=[[653.48658215]], grad=0, trainable=True)\n",
      "Epoch 12900/30000, Loss: Tensor(data=[[640.96813021]], grad=0, trainable=True)\n",
      "Epoch 13000/30000, Loss: Tensor(data=[[628.31401652]], grad=0, trainable=True)\n",
      "Epoch 13100/30000, Loss: Tensor(data=[[615.61847427]], grad=0, trainable=True)\n",
      "Epoch 13200/30000, Loss: Tensor(data=[[602.92562355]], grad=0, trainable=True)\n",
      "Epoch 13300/30000, Loss: Tensor(data=[[590.26821017]], grad=0, trainable=True)\n",
      "Epoch 13400/30000, Loss: Tensor(data=[[577.68032954]], grad=0, trainable=True)\n",
      "Epoch 13500/30000, Loss: Tensor(data=[[565.19018425]], grad=0, trainable=True)\n",
      "Epoch 13600/30000, Loss: Tensor(data=[[552.82757024]], grad=0, trainable=True)\n",
      "Epoch 13700/30000, Loss: Tensor(data=[[540.45680627]], grad=0, trainable=True)\n",
      "Epoch 13800/30000, Loss: Tensor(data=[[528.17108668]], grad=0, trainable=True)\n",
      "Epoch 13900/30000, Loss: Tensor(data=[[516.04819516]], grad=0, trainable=True)\n",
      "Epoch 14000/30000, Loss: Tensor(data=[[504.10773212]], grad=0, trainable=True)\n",
      "Epoch 14100/30000, Loss: Tensor(data=[[492.37202419]], grad=0, trainable=True)\n",
      "Epoch 14200/30000, Loss: Tensor(data=[[480.86279958]], grad=0, trainable=True)\n",
      "Epoch 14300/30000, Loss: Tensor(data=[[469.45614331]], grad=0, trainable=True)\n",
      "Epoch 14400/30000, Loss: Tensor(data=[[457.86953145]], grad=0, trainable=True)\n",
      "Epoch 14500/30000, Loss: Tensor(data=[[446.16724109]], grad=0, trainable=True)\n",
      "Epoch 14600/30000, Loss: Tensor(data=[[434.66502816]], grad=0, trainable=True)\n",
      "Epoch 14700/30000, Loss: Tensor(data=[[423.54891623]], grad=0, trainable=True)\n",
      "Epoch 14800/30000, Loss: Tensor(data=[[412.69963896]], grad=0, trainable=True)\n",
      "Epoch 14900/30000, Loss: Tensor(data=[[402.27842241]], grad=0, trainable=True)\n",
      "Epoch 15000/30000, Loss: Tensor(data=[[392.12515804]], grad=0, trainable=True)\n",
      "Epoch 15100/30000, Loss: Tensor(data=[[381.80265344]], grad=0, trainable=True)\n",
      "Epoch 15200/30000, Loss: Tensor(data=[[371.86125963]], grad=0, trainable=True)\n",
      "Epoch 15300/30000, Loss: Tensor(data=[[362.28646052]], grad=0, trainable=True)\n",
      "Epoch 15400/30000, Loss: Tensor(data=[[353.02509844]], grad=0, trainable=True)\n",
      "Epoch 15500/30000, Loss: Tensor(data=[[344.06753128]], grad=0, trainable=True)\n",
      "Epoch 15600/30000, Loss: Tensor(data=[[335.41286684]], grad=0, trainable=True)\n",
      "Epoch 15700/30000, Loss: Tensor(data=[[327.07418168]], grad=0, trainable=True)\n",
      "Epoch 15800/30000, Loss: Tensor(data=[[318.57747878]], grad=0, trainable=True)\n",
      "Epoch 15900/30000, Loss: Tensor(data=[[310.20170372]], grad=0, trainable=True)\n",
      "Epoch 16000/30000, Loss: Tensor(data=[[302.12214981]], grad=0, trainable=True)\n",
      "Epoch 16100/30000, Loss: Tensor(data=[[294.34258153]], grad=0, trainable=True)\n",
      "Epoch 16200/30000, Loss: Tensor(data=[[286.8552024]], grad=0, trainable=True)\n",
      "Epoch 16300/30000, Loss: Tensor(data=[[279.64910911]], grad=0, trainable=True)\n",
      "Epoch 16400/30000, Loss: Tensor(data=[[272.75254497]], grad=0, trainable=True)\n",
      "Epoch 16500/30000, Loss: Tensor(data=[[265.90681494]], grad=0, trainable=True)\n",
      "Epoch 16600/30000, Loss: Tensor(data=[[258.82251992]], grad=0, trainable=True)\n",
      "Epoch 16700/30000, Loss: Tensor(data=[[252.03346926]], grad=0, trainable=True)\n",
      "Epoch 16800/30000, Loss: Tensor(data=[[245.54048921]], grad=0, trainable=True)\n",
      "Epoch 16900/30000, Loss: Tensor(data=[[239.34327183]], grad=0, trainable=True)\n",
      "Epoch 17000/30000, Loss: Tensor(data=[[233.44129092]], grad=0, trainable=True)\n",
      "Epoch 17100/30000, Loss: Tensor(data=[[227.83289873]], grad=0, trainable=True)\n",
      "Epoch 17200/30000, Loss: Tensor(data=[[222.51636238]], grad=0, trainable=True)\n",
      "Epoch 17300/30000, Loss: Tensor(data=[[216.94980364]], grad=0, trainable=True)\n",
      "Epoch 17400/30000, Loss: Tensor(data=[[211.24801001]], grad=0, trainable=True)\n",
      "Epoch 17500/30000, Loss: Tensor(data=[[205.8381046]], grad=0, trainable=True)\n",
      "Epoch 17600/30000, Loss: Tensor(data=[[200.71586667]], grad=0, trainable=True)\n",
      "Epoch 17700/30000, Loss: Tensor(data=[[195.87702167]], grad=0, trainable=True)\n",
      "Epoch 17800/30000, Loss: Tensor(data=[[191.31342344]], grad=0, trainable=True)\n",
      "Epoch 17900/30000, Loss: Tensor(data=[[186.99271335]], grad=0, trainable=True)\n",
      "Epoch 18000/30000, Loss: Tensor(data=[[182.94852546]], grad=0, trainable=True)\n",
      "Epoch 18100/30000, Loss: Tensor(data=[[179.17095288]], grad=0, trainable=True)\n",
      "Epoch 18200/30000, Loss: Tensor(data=[[175.65150383]], grad=0, trainable=True)\n",
      "Epoch 18300/30000, Loss: Tensor(data=[[172.3779312]], grad=0, trainable=True)\n",
      "Epoch 18400/30000, Loss: Tensor(data=[[169.34873888]], grad=0, trainable=True)\n",
      "Epoch 18500/30000, Loss: Tensor(data=[[166.55256665]], grad=0, trainable=True)\n",
      "Epoch 18600/30000, Loss: Tensor(data=[[163.97977334]], grad=0, trainable=True)\n",
      "Epoch 18700/30000, Loss: Tensor(data=[[161.62039509]], grad=0, trainable=True)\n",
      "Epoch 18800/30000, Loss: Tensor(data=[[159.46392088]], grad=0, trainable=True)\n",
      "Epoch 18900/30000, Loss: Tensor(data=[[157.49945239]], grad=0, trainable=True)\n",
      "Epoch 19000/30000, Loss: Tensor(data=[[155.71538357]], grad=0, trainable=True)\n",
      "Epoch 19100/30000, Loss: Tensor(data=[[153.79276618]], grad=0, trainable=True)\n",
      "Epoch 19200/30000, Loss: Tensor(data=[[151.25401149]], grad=0, trainable=True)\n",
      "Epoch 19300/30000, Loss: Tensor(data=[[148.9459093]], grad=0, trainable=True)\n",
      "Epoch 19400/30000, Loss: Tensor(data=[[146.8539419]], grad=0, trainable=True)\n",
      "Epoch 19500/30000, Loss: Tensor(data=[[144.96073283]], grad=0, trainable=True)\n",
      "Epoch 19600/30000, Loss: Tensor(data=[[143.25034523]], grad=0, trainable=True)\n",
      "Epoch 19700/30000, Loss: Tensor(data=[[141.70857379]], grad=0, trainable=True)\n",
      "Epoch 19800/30000, Loss: Tensor(data=[[140.31681732]], grad=0, trainable=True)\n",
      "Epoch 19900/30000, Loss: Tensor(data=[[139.06650991]], grad=0, trainable=True)\n",
      "Epoch 20000/30000, Loss: Tensor(data=[[137.94746307]], grad=0, trainable=True)\n",
      "Epoch 20100/30000, Loss: Tensor(data=[[136.94731262]], grad=0, trainable=True)\n",
      "Epoch 20200/30000, Loss: Tensor(data=[[135.84281549]], grad=0, trainable=True)\n",
      "Epoch 20300/30000, Loss: Tensor(data=[[133.9372124]], grad=0, trainable=True)\n",
      "Epoch 20400/30000, Loss: Tensor(data=[[132.256781]], grad=0, trainable=True)\n",
      "Epoch 20500/30000, Loss: Tensor(data=[[130.7802479]], grad=0, trainable=True)\n",
      "Epoch 20600/30000, Loss: Tensor(data=[[129.48377017]], grad=0, trainable=True)\n",
      "Epoch 20700/30000, Loss: Tensor(data=[[128.34603207]], grad=0, trainable=True)\n",
      "Epoch 20800/30000, Loss: Tensor(data=[[127.34737106]], grad=0, trainable=True)\n",
      "Epoch 20900/30000, Loss: Tensor(data=[[126.47027889]], grad=0, trainable=True)\n",
      "Epoch 21000/30000, Loss: Tensor(data=[[125.69854589]], grad=0, trainable=True)\n",
      "Epoch 21100/30000, Loss: Tensor(data=[[125.01179271]], grad=0, trainable=True)\n",
      "Epoch 21200/30000, Loss: Tensor(data=[[124.40293987]], grad=0, trainable=True)\n",
      "Epoch 21300/30000, Loss: Tensor(data=[[123.86186379]], grad=0, trainable=True)\n",
      "Epoch 21400/30000, Loss: Tensor(data=[[123.37673996]], grad=0, trainable=True)\n",
      "Epoch 21500/30000, Loss: Tensor(data=[[122.93798974]], grad=0, trainable=True)\n",
      "Epoch 21600/30000, Loss: Tensor(data=[[121.9927509]], grad=0, trainable=True)\n",
      "Epoch 21700/30000, Loss: Tensor(data=[[120.66784991]], grad=0, trainable=True)\n",
      "Epoch 21800/30000, Loss: Tensor(data=[[119.58174839]], grad=0, trainable=True)\n",
      "Epoch 21900/30000, Loss: Tensor(data=[[118.68050022]], grad=0, trainable=True)\n",
      "Epoch 22000/30000, Loss: Tensor(data=[[117.92184561]], grad=0, trainable=True)\n",
      "Epoch 22100/30000, Loss: Tensor(data=[[117.27341948]], grad=0, trainable=True)\n",
      "Epoch 22200/30000, Loss: Tensor(data=[[116.70988919]], grad=0, trainable=True)\n",
      "Epoch 22300/30000, Loss: Tensor(data=[[116.21119291]], grad=0, trainable=True)\n",
      "Epoch 22400/30000, Loss: Tensor(data=[[115.76186063]], grad=0, trainable=True)\n",
      "Epoch 22500/30000, Loss: Tensor(data=[[115.35006078]], grad=0, trainable=True)\n",
      "Epoch 22600/30000, Loss: Tensor(data=[[114.96688866]], grad=0, trainable=True)\n",
      "Epoch 22700/30000, Loss: Tensor(data=[[114.605748]], grad=0, trainable=True)\n",
      "Epoch 22800/30000, Loss: Tensor(data=[[114.26211203]], grad=0, trainable=True)\n",
      "Epoch 22900/30000, Loss: Tensor(data=[[113.93454705]], grad=0, trainable=True)\n",
      "Epoch 23000/30000, Loss: Tensor(data=[[113.61884145]], grad=0, trainable=True)\n",
      "Epoch 23100/30000, Loss: Tensor(data=[[113.31325196]], grad=0, trainable=True)\n",
      "Epoch 23200/30000, Loss: Tensor(data=[[113.01584062]], grad=0, trainable=True)\n",
      "Epoch 23300/30000, Loss: Tensor(data=[[112.72620519]], grad=0, trainable=True)\n",
      "Epoch 23400/30000, Loss: Tensor(data=[[112.44340226]], grad=0, trainable=True)\n",
      "Epoch 23500/30000, Loss: Tensor(data=[[112.16688151]], grad=0, trainable=True)\n",
      "Epoch 23600/30000, Loss: Tensor(data=[[111.89619913]], grad=0, trainable=True)\n",
      "Epoch 23700/30000, Loss: Tensor(data=[[111.6322797]], grad=0, trainable=True)\n",
      "Epoch 23800/30000, Loss: Tensor(data=[[111.37587014]], grad=0, trainable=True)\n",
      "Epoch 23900/30000, Loss: Tensor(data=[[111.12445364]], grad=0, trainable=True)\n",
      "Epoch 24000/30000, Loss: Tensor(data=[[110.87836433]], grad=0, trainable=True)\n",
      "Epoch 24100/30000, Loss: Tensor(data=[[110.6370698]], grad=0, trainable=True)\n",
      "Epoch 24200/30000, Loss: Tensor(data=[[110.40028681]], grad=0, trainable=True)\n",
      "Epoch 24300/30000, Loss: Tensor(data=[[110.1679081]], grad=0, trainable=True)\n",
      "Epoch 24400/30000, Loss: Tensor(data=[[109.93980544]], grad=0, trainable=True)\n",
      "Epoch 24500/30000, Loss: Tensor(data=[[109.71573558]], grad=0, trainable=True)\n",
      "Epoch 24600/30000, Loss: Tensor(data=[[109.49568533]], grad=0, trainable=True)\n",
      "Epoch 24700/30000, Loss: Tensor(data=[[109.28018393]], grad=0, trainable=True)\n",
      "Epoch 24800/30000, Loss: Tensor(data=[[109.06926843]], grad=0, trainable=True)\n",
      "Epoch 24900/30000, Loss: Tensor(data=[[108.6581443]], grad=0, trainable=True)\n",
      "Epoch 25000/30000, Loss: Tensor(data=[[106.85734333]], grad=0, trainable=True)\n",
      "Epoch 25100/30000, Loss: Tensor(data=[[106.15013062]], grad=0, trainable=True)\n",
      "Epoch 25200/30000, Loss: Tensor(data=[[105.72898881]], grad=0, trainable=True)\n",
      "Epoch 25300/30000, Loss: Tensor(data=[[105.38765397]], grad=0, trainable=True)\n",
      "Epoch 25400/30000, Loss: Tensor(data=[[105.07401529]], grad=0, trainable=True)\n",
      "Epoch 25500/30000, Loss: Tensor(data=[[104.7747903]], grad=0, trainable=True)\n",
      "Epoch 25600/30000, Loss: Tensor(data=[[104.48626231]], grad=0, trainable=True)\n",
      "Epoch 25700/30000, Loss: Tensor(data=[[104.20701634]], grad=0, trainable=True)\n",
      "Epoch 25800/30000, Loss: Tensor(data=[[103.93619401]], grad=0, trainable=True)\n",
      "Epoch 25900/30000, Loss: Tensor(data=[[103.67436185]], grad=0, trainable=True)\n",
      "Epoch 26000/30000, Loss: Tensor(data=[[103.42066385]], grad=0, trainable=True)\n",
      "Epoch 26100/30000, Loss: Tensor(data=[[103.1744982]], grad=0, trainable=True)\n",
      "Epoch 26200/30000, Loss: Tensor(data=[[102.93518973]], grad=0, trainable=True)\n",
      "Epoch 26300/30000, Loss: Tensor(data=[[102.70224889]], grad=0, trainable=True)\n",
      "Epoch 26400/30000, Loss: Tensor(data=[[102.47528492]], grad=0, trainable=True)\n",
      "Epoch 26500/30000, Loss: Tensor(data=[[102.25393637]], grad=0, trainable=True)\n",
      "Epoch 26600/30000, Loss: Tensor(data=[[102.03799409]], grad=0, trainable=True)\n",
      "Epoch 26700/30000, Loss: Tensor(data=[[101.82722949]], grad=0, trainable=True)\n",
      "Epoch 26800/30000, Loss: Tensor(data=[[101.62144459]], grad=0, trainable=True)\n",
      "Epoch 26900/30000, Loss: Tensor(data=[[101.42109619]], grad=0, trainable=True)\n",
      "Epoch 27000/30000, Loss: Tensor(data=[[101.22416554]], grad=0, trainable=True)\n",
      "Epoch 27100/30000, Loss: Tensor(data=[[101.03238902]], grad=0, trainable=True)\n",
      "Epoch 27200/30000, Loss: Tensor(data=[[100.84524697]], grad=0, trainable=True)\n",
      "Epoch 27300/30000, Loss: Tensor(data=[[100.66288755]], grad=0, trainable=True)\n",
      "Epoch 27400/30000, Loss: Tensor(data=[[100.48511925]], grad=0, trainable=True)\n",
      "Epoch 27500/30000, Loss: Tensor(data=[[100.31179512]], grad=0, trainable=True)\n",
      "Epoch 27600/30000, Loss: Tensor(data=[[100.14280528]], grad=0, trainable=True)\n",
      "Epoch 27700/30000, Loss: Tensor(data=[[99.97806067]], grad=0, trainable=True)\n",
      "Epoch 27800/30000, Loss: Tensor(data=[[99.81748188]], grad=0, trainable=True)\n",
      "Epoch 27900/30000, Loss: Tensor(data=[[99.66098653]], grad=0, trainable=True)\n",
      "Epoch 28000/30000, Loss: Tensor(data=[[99.50850101]], grad=0, trainable=True)\n",
      "Epoch 28100/30000, Loss: Tensor(data=[[99.35997229]], grad=0, trainable=True)\n",
      "Epoch 28200/30000, Loss: Tensor(data=[[99.21531313]], grad=0, trainable=True)\n",
      "Epoch 28300/30000, Loss: Tensor(data=[[99.07448746]], grad=0, trainable=True)\n",
      "Epoch 28400/30000, Loss: Tensor(data=[[98.9377823]], grad=0, trainable=True)\n",
      "Epoch 28500/30000, Loss: Tensor(data=[[98.80374375]], grad=0, trainable=True)\n",
      "Epoch 28600/30000, Loss: Tensor(data=[[98.673561]], grad=0, trainable=True)\n",
      "Epoch 28700/30000, Loss: Tensor(data=[[98.54741397]], grad=0, trainable=True)\n",
      "Epoch 28800/30000, Loss: Tensor(data=[[98.42498266]], grad=0, trainable=True)\n",
      "Epoch 28900/30000, Loss: Tensor(data=[[98.30613172]], grad=0, trainable=True)\n",
      "Epoch 29000/30000, Loss: Tensor(data=[[98.19077526]], grad=0, trainable=True)\n",
      "Epoch 29100/30000, Loss: Tensor(data=[[98.07887534]], grad=0, trainable=True)\n",
      "Epoch 29200/30000, Loss: Tensor(data=[[97.97039273]], grad=0, trainable=True)\n",
      "Epoch 29300/30000, Loss: Tensor(data=[[97.86528638]], grad=0, trainable=True)\n",
      "Epoch 29400/30000, Loss: Tensor(data=[[97.76350951]], grad=0, trainable=True)\n",
      "Epoch 29500/30000, Loss: Tensor(data=[[97.66515359]], grad=0, trainable=True)\n",
      "Epoch 29600/30000, Loss: Tensor(data=[[97.57040818]], grad=0, trainable=True)\n",
      "Epoch 29700/30000, Loss: Tensor(data=[[97.4791466]], grad=0, trainable=True)\n",
      "Epoch 29800/30000, Loss: Tensor(data=[[97.39133691]], grad=0, trainable=True)\n",
      "Epoch 29900/30000, Loss: Tensor(data=[[97.30686847]], grad=0, trainable=True)\n"
     ]
    }
   ],
   "source": [
    "epoch = 30000\n",
    "t = 0\n",
    "mse_loss = MSELoss()\n",
    "for i in range(epoch):\n",
    "    loss = mse_loss([net(x) for x in train_x], train_y)\n",
    "    loss.backward()\n",
    "    t = loss.adam_opt(t, learning_rate=0.001)\n",
    "    if i % 100 == 0:\n",
    "        print(f'Epoch {i}/{epoch}, Loss: {loss}')"
   ]
  },
  {
   "cell_type": "code",
   "execution_count": 26,
   "metadata": {},
   "outputs": [],
   "source": [
    "import matplotlib.pyplot as plt\n",
    "\n",
    "def draw(forward_func, test_x, test_y):\n",
    "    # 创建绘图\n",
    "    plt.figure(figsize=(10, 6))\n",
    "\n",
    "    # 绘制 forward 函数的曲线\n",
    "    line_x = np.linspace(min(test_x), max(test_x), 100)\n",
    "    line_y = [forward_func(x).data[0][0] for x in line_x]\n",
    "    plt.plot(line_x, line_y, label=\"Forward Function\", color='blue')\n",
    "\n",
    "    # 绘制测试集的点\n",
    "    plt.scatter(test_x, test_y, label=\"Test Data\", color='red')\n",
    "\n",
    "    # 添加图例和标签\n",
    "    plt.xlabel('x')\n",
    "    plt.ylabel('y')\n",
    "    plt.title('Forward Function vs Test Data')\n",
    "    plt.legend()\n",
    "\n",
    "    # 显示图形\n",
    "    plt.show()"
   ]
  },
  {
   "cell_type": "code",
   "execution_count": 27,
   "metadata": {},
   "outputs": [
    {
     "data": {
      "image/png": "[encoded data removed]",
      "text/plain": [
       "<Figure size 1000x600 with 1 Axes>"
      ]
     },
     "metadata": {},
     "output_type": "display_data"
    }
   ],
   "source": [
    "draw(net, test_x, test_y)"
   ]
  },
  {
   "cell_type": "code",
   "execution_count": 51,
   "metadata": {},
   "outputs": [
    {
     "name": "stdout",
     "output_type": "stream",
     "text": [
      "Epoch 0/30000, Loss: Tensor(data=[[1.53757469e+08]], grad=[[0.]], trainable=True)\n",
      "Epoch 100/30000, Loss: Tensor(data=[[1.2935343e+08]], grad=[[0.]], trainable=True)\n"
     ]
    },
    {
     "ename": "KeyboardInterrupt",
     "evalue": "",
     "output_type": "error",
     "traceback": [
      "\u001b[0;31m---------------------------------------------------------------------------\u001b[0m",
      "\u001b[0;31mKeyboardInterrupt\u001b[0m                         Traceback (most recent call last)",
      "Cell \u001b[0;32mIn[51], line 14\u001b[0m\n\u001b[1;32m     12\u001b[0m     loss_sum \u001b[38;5;241m+\u001b[39m\u001b[38;5;241m=\u001b[39m loss\n\u001b[1;32m     13\u001b[0m     loss\u001b[38;5;241m.\u001b[39mbackward()\n\u001b[0;32m---> 14\u001b[0m     loss\u001b[38;5;241m.\u001b[39madam_opt(t, learning_rate\u001b[38;5;241m=\u001b[39m\u001b[38;5;241m0.001\u001b[39m)\n\u001b[1;32m     15\u001b[0m \u001b[38;5;28;01mif\u001b[39;00m i \u001b[38;5;241m%\u001b[39m \u001b[38;5;241m100\u001b[39m \u001b[38;5;241m==\u001b[39m \u001b[38;5;241m0\u001b[39m:\n\u001b[1;32m     16\u001b[0m     \u001b[38;5;28mprint\u001b[39m(\u001b[38;5;124mf\u001b[39m\u001b[38;5;124m'\u001b[39m\u001b[38;5;124mEpoch \u001b[39m\u001b[38;5;132;01m{\u001b[39;00mi\u001b[38;5;132;01m}\u001b[39;00m\u001b[38;5;124m/\u001b[39m\u001b[38;5;132;01m{\u001b[39;00mepoch\u001b[38;5;132;01m}\u001b[39;00m\u001b[38;5;124m, Loss: \u001b[39m\u001b[38;5;132;01m{\u001b[39;00mloss_sum\u001b[38;5;132;01m}\u001b[39;00m\u001b[38;5;124m'\u001b[39m)\n",
      "File \u001b[0;32m~/Desktop/scratch-anything/deep learning/jupyter_notebook/2. 从零开始实现_从神经元到全连接神经网络/mytorch.py:298\u001b[0m, in \u001b[0;36mTensor.adam_opt\u001b[0;34m(self, t, learning_rate, beta1, beta2, epsilon, grad_zero)\u001b[0m\n\u001b[1;32m    296\u001b[0m \u001b[38;5;66;03m# 更新动量和速度\u001b[39;00m\n\u001b[1;32m    297\u001b[0m tensor\u001b[38;5;241m.\u001b[39mmomentum \u001b[38;5;241m=\u001b[39m beta1 \u001b[38;5;241m*\u001b[39m tensor\u001b[38;5;241m.\u001b[39mmomentum \u001b[38;5;241m+\u001b[39m (\u001b[38;5;241m1\u001b[39m \u001b[38;5;241m-\u001b[39m beta1) \u001b[38;5;241m*\u001b[39m tensor\u001b[38;5;241m.\u001b[39mgrad\n\u001b[0;32m--> 298\u001b[0m tensor\u001b[38;5;241m.\u001b[39mvelocity \u001b[38;5;241m=\u001b[39m beta2 \u001b[38;5;241m*\u001b[39m tensor\u001b[38;5;241m.\u001b[39mvelocity \u001b[38;5;241m+\u001b[39m (\u001b[38;5;241m1\u001b[39m \u001b[38;5;241m-\u001b[39m beta2) \u001b[38;5;241m*\u001b[39m np\u001b[38;5;241m.\u001b[39msquare(tensor\u001b[38;5;241m.\u001b[39mgrad)\n\u001b[1;32m    300\u001b[0m \u001b[38;5;66;03m# 计算偏差校正后的估计\u001b[39;00m\n\u001b[1;32m    301\u001b[0m m_hat \u001b[38;5;241m=\u001b[39m tensor\u001b[38;5;241m.\u001b[39mmomentum \u001b[38;5;241m/\u001b[39m (\u001b[38;5;241m1\u001b[39m \u001b[38;5;241m-\u001b[39m beta1 \u001b[38;5;241m*\u001b[39m\u001b[38;5;241m*\u001b[39m t)\n",
      "\u001b[0;31mKeyboardInterrupt\u001b[0m: "
     ]
    }
   ],
   "source": [
    "epoch = 30000\n",
    "batch_size = 80\n",
    "batch_sampler = BatchSampler(train_x, train_y, batch_size)\n",
    "mse_loss = MSELoss()\n",
    "t = 0\n",
    "for i in range(epoch):\n",
    "    loss_sum = 0\n",
    "    for _ in range(len(train_y)//5):\n",
    "        batch_train_x, batch_train_y = batch_sampler.next_batch()\n",
    "        pred = [net(x) for x in batch_train_x]\n",
    "        loss = mse_loss(pred, batch_train_y)\n",
    "        loss_sum += loss\n",
    "        loss.backward()\n",
    "        loss.adam_opt(t, learning_rate=0.001)\n",
    "    if i % 100 == 0:\n",
    "        print(f'Epoch {i}/{epoch}, Loss: {loss_sum}')\n",
    "    t += 1"
   ]
  }
 ],
 "metadata": {
  "kernelspec": {
   "display_name": "base",
   "language": "python",
   "name": "python3"
  },
  "language_info": {
   "codemirror_mode": {
    "name": "ipython",
    "version": 3
   },
   "file_extension": ".py",
   "mimetype": "text/x-python",
   "name": "python",
   "nbconvert_exporter": "python",
   "pygments_lexer": "ipython3",
   "version": "3.11.4"
  }
 },
 "nbformat": 4,
 "nbformat_minor": 2
}
